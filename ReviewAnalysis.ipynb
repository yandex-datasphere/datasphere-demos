{
 "cells": [
  {
   "cell_type": "markdown",
   "id": "82039966-2a39-4d38-be02-bd7edf8c4d78",
   "metadata": {},
   "source": [
    "## Анализ отзывов\n",
    "\n",
    "В рамках данного кейса предлагается с помощью ИИ и машинного обучения поизучать отзывы людей на железнодорожные вокзалы Москвы. В рамках кейса предоставляются отзывы пользователей с Яндекс-карт, но возможно дополнительно использовать доступные в Интернет данные. \n",
    "\n",
    "Что ожидается в качестве результата:\n",
    "* Инфографика, наглядно демонстрирующая полученные командой результаты\n",
    "* Доклад, представляющий эти результаты\n",
    "* Код в Jupyter Notebook с анализом данных\n",
    "\n",
    "В данном ноутбуке показывается, как получить доступ к датасету, и первые шаги по его обработке с помощью доступных открытых моделей с HuggingFace, и с помощью YandexGPT. Можно использовать данный ноутбук как оправную точку для выполнения задания, расширив его дополнительными идеями, например:\n",
    "* Кластеризация отзывов\n",
    "* Обучение своих моделей для классификации тематики отзывов\n",
    "* Использование предобученных NER-моделей\n",
    "* Подробный анализ отзывов с помощью LLM\n",
    "\n",
    "> В начале работы мы будем использовать модель с HuggingFace, поэтому работа будет быстрее, если вы будете запускать код на узле с поддержкой GPU\n",
    "\n",
    "Для начала установим библиотеки:"
   ]
  },
  {
   "cell_type": "code",
   "execution_count": null,
   "id": "60269348-9f26-4e95-a8ce-527ab6c58048",
   "metadata": {
    "execution": {
     "iopub.execute_input": "2025-03-04T17:01:18.139233Z",
     "iopub.status.busy": "2025-03-04T17:01:18.138537Z"
    },
    "tags": []
   },
   "outputs": [
    {
     "name": "stdout",
     "output_type": "stream",
     "text": [
      "Defaulting to user installation because normal site-packages is not writeable\n",
      "Collecting transformers\n",
      "  Downloading transformers-4.49.0-py3-none-any.whl.metadata (44 kB)\n",
      "Collecting yandex-cloud-ml-sdk\n",
      "  Downloading yandex_cloud_ml_sdk-0.4.1-py3-none-any.whl.metadata (4.1 kB)\n",
      "Requirement already satisfied: filelock in /usr/local/lib/python3.10/dist-packages (from transformers) (3.12.2)\n",
      "Requirement already satisfied: huggingface-hub<1.0,>=0.26.0 in /home/jupyter/.local/lib/python3.10/site-packages (from transformers) (0.29.1)\n",
      "Requirement already satisfied: numpy>=1.17 in /usr/local/lib/python3.10/dist-packages (from transformers) (1.22.4)\n",
      "Requirement already satisfied: packaging>=20.0 in /usr/local/lib/python3.10/dist-packages (from transformers) (23.1)\n",
      "Requirement already satisfied: pyyaml>=5.1 in /usr/local/lib/python3.10/dist-packages (from transformers) (6.0.1)\n",
      "Requirement already satisfied: regex!=2019.12.17 in /usr/local/lib/python3.10/dist-packages (from transformers) (2022.10.31)\n",
      "Requirement already satisfied: requests in /home/jupyter/.local/lib/python3.10/site-packages (from transformers) (2.32.3)\n",
      "Collecting tokenizers<0.22,>=0.21 (from transformers)\n",
      "  Downloading tokenizers-0.21.0-cp39-abi3-manylinux_2_17_x86_64.manylinux2014_x86_64.whl.metadata (6.7 kB)\n",
      "Requirement already satisfied: safetensors>=0.4.1 in /home/jupyter/.local/lib/python3.10/site-packages (from transformers) (0.5.3)\n",
      "Requirement already satisfied: tqdm>=4.27 in /usr/local/lib/python3.10/dist-packages (from transformers) (4.65.0)\n",
      "Requirement already satisfied: yandexcloud>=0.334.0 in /home/jupyter/.local/lib/python3.10/site-packages (from yandex-cloud-ml-sdk) (0.335.0)\n",
      "Requirement already satisfied: grpcio>=1.70.0 in /home/jupyter/.local/lib/python3.10/site-packages (from yandex-cloud-ml-sdk) (1.70.0)\n",
      "Requirement already satisfied: get-annotations in /home/jupyter/.local/lib/python3.10/site-packages (from yandex-cloud-ml-sdk) (0.1.2)\n",
      "Collecting httpx<1,>=0.27 (from yandex-cloud-ml-sdk)\n",
      "  Downloading httpx-0.28.1-py3-none-any.whl.metadata (7.1 kB)\n",
      "Requirement already satisfied: typing-extensions>=4 in /usr/local/lib/python3.10/dist-packages (from yandex-cloud-ml-sdk) (4.7.1)\n",
      "Requirement already satisfied: aiofiles>=24.1.0 in /home/jupyter/.local/lib/python3.10/site-packages (from yandex-cloud-ml-sdk) (24.1.0)\n",
      "Requirement already satisfied: anyio in /usr/local/lib/python3.10/dist-packages (from httpx<1,>=0.27->yandex-cloud-ml-sdk) (3.7.1)\n",
      "Requirement already satisfied: certifi in /usr/local/lib/python3.10/dist-packages (from httpx<1,>=0.27->yandex-cloud-ml-sdk) (2023.7.22)\n",
      "Requirement already satisfied: httpcore==1.* in /home/jupyter/.local/lib/python3.10/site-packages (from httpx<1,>=0.27->yandex-cloud-ml-sdk) (1.0.7)\n",
      "Requirement already satisfied: idna in /usr/local/lib/python3.10/dist-packages (from httpx<1,>=0.27->yandex-cloud-ml-sdk) (3.4)\n",
      "Requirement already satisfied: h11<0.15,>=0.13 in /home/jupyter/.local/lib/python3.10/site-packages (from httpcore==1.*->httpx<1,>=0.27->yandex-cloud-ml-sdk) (0.14.0)\n",
      "Requirement already satisfied: fsspec>=2023.5.0 in /usr/local/lib/python3.10/dist-packages (from huggingface-hub<1.0,>=0.26.0->transformers) (2023.6.0)\n",
      "Requirement already satisfied: cryptography>=44.0.0 in /home/jupyter/.local/lib/python3.10/site-packages (from yandexcloud>=0.334.0->yandex-cloud-ml-sdk) (44.0.2)\n",
      "Requirement already satisfied: protobuf<6,>=5.29.1 in /home/jupyter/.local/lib/python3.10/site-packages (from yandexcloud>=0.334.0->yandex-cloud-ml-sdk) (5.29.3)\n",
      "Requirement already satisfied: googleapis-common-protos<2,>=1.66.0 in /home/jupyter/.local/lib/python3.10/site-packages (from yandexcloud>=0.334.0->yandex-cloud-ml-sdk) (1.69.0)\n",
      "Requirement already satisfied: pyjwt<3,>=2.10.1 in /home/jupyter/.local/lib/python3.10/site-packages (from yandexcloud>=0.334.0->yandex-cloud-ml-sdk) (2.10.1)\n",
      "Requirement already satisfied: six<2,>=1.17.0 in /home/jupyter/.local/lib/python3.10/site-packages (from yandexcloud>=0.334.0->yandex-cloud-ml-sdk) (1.17.0)\n",
      "Requirement already satisfied: grpcio-tools>=1.68.1 in /home/jupyter/.local/lib/python3.10/site-packages (from yandexcloud>=0.334.0->yandex-cloud-ml-sdk) (1.70.0)\n",
      "Requirement already satisfied: deprecated>=1.2.18 in /home/jupyter/.local/lib/python3.10/site-packages (from yandexcloud>=0.334.0->yandex-cloud-ml-sdk) (1.2.18)\n",
      "Requirement already satisfied: charset-normalizer<4,>=2 in /usr/local/lib/python3.10/dist-packages (from requests->transformers) (2.0.12)\n",
      "Requirement already satisfied: urllib3<3,>=1.21.1 in /usr/local/lib/python3.10/dist-packages (from requests->transformers) (1.26.16)\n",
      "Requirement already satisfied: cffi>=1.12 in /usr/local/lib/python3.10/dist-packages (from cryptography>=44.0.0->yandexcloud>=0.334.0->yandex-cloud-ml-sdk) (1.15.1)\n",
      "Requirement already satisfied: wrapt<2,>=1.10 in /usr/local/lib/python3.10/dist-packages (from deprecated>=1.2.18->yandexcloud>=0.334.0->yandex-cloud-ml-sdk) (1.14.1)\n",
      "Requirement already satisfied: setuptools in /kernel/lib/python3.10/site-packages (from grpcio-tools>=1.68.1->yandexcloud>=0.334.0->yandex-cloud-ml-sdk) (65.5.0)\n",
      "Requirement already satisfied: sniffio>=1.1 in /usr/local/lib/python3.10/dist-packages (from anyio->httpx<1,>=0.27->yandex-cloud-ml-sdk) (1.3.0)\n",
      "Requirement already satisfied: exceptiongroup in /usr/local/lib/python3.10/dist-packages (from anyio->httpx<1,>=0.27->yandex-cloud-ml-sdk) (1.1.2)\n",
      "Requirement already satisfied: pycparser in /usr/local/lib/python3.10/dist-packages (from cffi>=1.12->cryptography>=44.0.0->yandexcloud>=0.334.0->yandex-cloud-ml-sdk) (2.21)\n",
      "Downloading transformers-4.49.0-py3-none-any.whl (10.0 MB)\n",
      "\u001B[2K   \u001B[90m━━━━━━━━━━━━━━━━━━━━━━━━━━━━━━━━━━━━━━━━\u001B[0m \u001B[32m10.0/10.0 MB\u001B[0m \u001B[31m44.5 MB/s\u001B[0m eta \u001B[36m0:00:00\u001B[0m00:01\u001B[0m\n",
      "\u001B[?25hDownloading yandex_cloud_ml_sdk-0.4.1-py3-none-any.whl (116 kB)\n",
      "Downloading httpx-0.28.1-py3-none-any.whl (73 kB)\n",
      "Downloading tokenizers-0.21.0-cp39-abi3-manylinux_2_17_x86_64.manylinux2014_x86_64.whl (3.0 MB)\n",
      "\u001B[2K   \u001B[90m━━━━━━━━━━━━━━━━━━━━━━━━━━━━━━━━━━━━━━━━\u001B[0m \u001B[32m3.0/3.0 MB\u001B[0m \u001B[31m67.1 MB/s\u001B[0m eta \u001B[36m0:00:00\u001B[0m\n",
      "\u001B[?25hInstalling collected packages: httpx, tokenizers, yandex-cloud-ml-sdk, transformers\n",
      "\u001B[33m  WARNING: The script httpx is installed in '/home/jupyter/.local/bin' which is not on PATH.\n",
      "  Consider adding this directory to PATH or, if you prefer to suppress this warning, use --no-warn-script-location.\u001B[0m\u001B[33m\n",
      "\u001B[0m"
     ]
    }
   ],
   "source": [
    "%pip install transformers yandex-cloud-ml-sdk"
   ]
  },
  {
   "cell_type": "markdown",
   "id": "43ece969-ad86-4960-8d11-2b16156fc2d9",
   "metadata": {},
   "source": [
    "### Получение датасета"
   ]
  },
  {
   "cell_type": "code",
   "execution_count": 1,
   "id": "ad19da35-bf4b-4c5b-b8dc-cca6e7cb3e9f",
   "metadata": {
    "execution": {
     "iopub.execute_input": "2025-03-04T16:25:13.062408Z",
     "iopub.status.busy": "2025-03-04T16:25:13.061260Z",
     "iopub.status.idle": "2025-03-04T16:25:13.295410Z",
     "shell.execute_reply": "2025-03-04T16:25:13.294565Z",
     "shell.execute_reply.started": "2025-03-04T16:25:13.062359Z"
    },
    "tags": []
   },
   "outputs": [
    {
     "name": "stderr",
     "output_type": "stream",
     "text": [
      "--2025-03-04 16:25:13--  https://storage.yandexcloud.net/mypub/data/rail_reviews.zip\n",
      "Resolving storage.yandexcloud.net (storage.yandexcloud.net)... 213.180.193.243, 2a02:6b8::1d9\n",
      "Connecting to storage.yandexcloud.net (storage.yandexcloud.net)|213.180.193.243|:443... connected.\n",
      "HTTP request sent, awaiting response... 200 OK\n",
      "Length: 390394 (381K) [application/x-zip-compressed]\n",
      "Saving to: ‘rail_reviews.zip’\n",
      "\n",
      "     0K .......... .......... .......... .......... .......... 13% 6.73M 0s\n",
      "    50K .......... .......... .......... .......... .......... 26% 14.3M 0s\n",
      "   100K .......... .......... .......... .......... .......... 39% 13.4M 0s\n",
      "   150K .......... .......... .......... .......... .......... 52% 50.1M 0s\n",
      "   200K .......... .......... .......... .......... .......... 65% 19.4M 0s\n",
      "   250K .......... .......... .......... .......... .......... 78%  129M 0s\n",
      "   300K .......... .......... .......... .......... .......... 91% 41.2M 0s\n",
      "   350K .......... .......... .......... .                    100% 64.1M=0.02s\n",
      "\n",
      "2025-03-04 16:25:13 (18.8 MB/s) - ‘rail_reviews.zip’ saved [390394/390394]\n",
      "\n"
     ]
    }
   ],
   "source": [
    "!wget https://storage.yandexcloud.net/mypub/data/rail_reviews.zip"
   ]
  },
  {
   "cell_type": "code",
   "execution_count": 2,
   "id": "06eec371-2a9d-404d-ad8a-4f57ad3b5e81",
   "metadata": {
    "execution": {
     "iopub.execute_input": "2025-03-04T16:52:59.790935Z",
     "iopub.status.busy": "2025-03-04T16:52:59.789919Z",
     "iopub.status.idle": "2025-03-04T16:52:59.923500Z",
     "shell.execute_reply": "2025-03-04T16:52:59.922656Z",
     "shell.execute_reply.started": "2025-03-04T16:52:59.790891Z"
    },
    "tags": []
   },
   "outputs": [
    {
     "name": "stdout",
     "output_type": "stream",
     "text": [
      "Archive:  rail_reviews.zip\n",
      "  inflating: reviews_Belorussky_railway_station.json  \n",
      "  inflating: reviews_Kazan_Station.json  \n",
      "  inflating: reviews_Kursky_station.json  \n",
      "  inflating: reviews_Kyiv_railway_station.json  \n",
      "  inflating: reviews_Paveletsky_railway_station.json  \n",
      "  inflating: reviews_Rizhsky_railway_station.json  \n",
      "  inflating: reviews_Savyolovsky_station.json  \n",
      "  inflating: reviews_Vostochny_station.json  \n"
     ]
    }
   ],
   "source": [
    "!unzip *.zip"
   ]
  },
  {
   "cell_type": "markdown",
   "id": "467216d2-57d3-4878-ae89-4e4b9c722456",
   "metadata": {},
   "source": [
    "### Преобразуем данные в DataFrame\n",
    "\n",
    "Как видите, каждый вокзал представлен своим набором отзывов следующего вида:"
   ]
  },
  {
   "cell_type": "code",
   "execution_count": 2,
   "id": "962a0497-f450-4e2e-afe4-72541e451a8d",
   "metadata": {
    "execution": {
     "iopub.execute_input": "2025-03-04T17:04:59.232556Z",
     "iopub.status.busy": "2025-03-04T17:04:59.231813Z",
     "iopub.status.idle": "2025-03-04T17:04:59.247576Z",
     "shell.execute_reply": "2025-03-04T17:04:59.246900Z",
     "shell.execute_reply.started": "2025-03-04T17:04:59.232517Z"
    },
    "tags": []
   },
   "outputs": [
    {
     "data": {
      "text/plain": [
       "{'id': 1251,\n",
       " 'dislike': 1,\n",
       " 'like': 10,\n",
       " 'review_text': 'Очень красивое место, вежливый персонал.\\nЕздила на поезде из Москвы в Беларусь, комфортно, белье чистое, тепло, можно с животными. Дают горячий чай прям в постель, можно даже не переутруждаться, там о вВс и вашем комфорте позаботиться квалифицированные сотрудники.',\n",
       " 'author': 'Александра Подгайская',\n",
       " 'review_rating': 5,\n",
       " 'datetime': '2024-01-12T16:53:33.611Z'}"
      ]
     },
     "execution_count": 2,
     "metadata": {},
     "output_type": "execute_result"
    }
   ],
   "source": [
    "import json\n",
    "j = json.load(open('reviews_Belorussky_railway_station.json'))\n",
    "j[0]"
   ]
  },
  {
   "cell_type": "markdown",
   "id": "3d39bdcb-8c47-45c2-a1f1-ebbb3a7f2422",
   "metadata": {},
   "source": [
    "Для удобства, сведём все отзывы в одну табличку. Для этого нам нужно будет добавить в каждое JSON-описание отзыва название вокзала."
   ]
  },
  {
   "cell_type": "code",
   "execution_count": 3,
   "id": "85551dae-f937-40c3-ae6d-e63718943e26",
   "metadata": {
    "execution": {
     "iopub.execute_input": "2025-03-04T17:04:59.249356Z",
     "iopub.status.busy": "2025-03-04T17:04:59.248567Z",
     "iopub.status.idle": "2025-03-04T17:04:59.311482Z",
     "shell.execute_reply": "2025-03-04T17:04:59.310601Z",
     "shell.execute_reply.started": "2025-03-04T17:04:59.249319Z"
    },
    "tags": []
   },
   "outputs": [
    {
     "data": {
      "text/html": [
       "<div>\n",
       "<style scoped>\n",
       "    .dataframe tbody tr th:only-of-type {\n",
       "        vertical-align: middle;\n",
       "    }\n",
       "\n",
       "    .dataframe tbody tr th {\n",
       "        vertical-align: top;\n",
       "    }\n",
       "\n",
       "    .dataframe thead th {\n",
       "        text-align: right;\n",
       "    }\n",
       "</style>\n",
       "<table border=\"1\" class=\"dataframe\">\n",
       "  <thead>\n",
       "    <tr style=\"text-align: right;\">\n",
       "      <th></th>\n",
       "      <th>id</th>\n",
       "      <th>dislike</th>\n",
       "      <th>like</th>\n",
       "      <th>review_text</th>\n",
       "      <th>author</th>\n",
       "      <th>review_rating</th>\n",
       "      <th>datetime</th>\n",
       "      <th>station</th>\n",
       "    </tr>\n",
       "  </thead>\n",
       "  <tbody>\n",
       "    <tr>\n",
       "      <th>0</th>\n",
       "      <td>1251</td>\n",
       "      <td>1</td>\n",
       "      <td>10</td>\n",
       "      <td>Очень красивое место, вежливый персонал.\\nЕзди...</td>\n",
       "      <td>Александра Подгайская</td>\n",
       "      <td>5</td>\n",
       "      <td>2024-01-12T16:53:33.611Z</td>\n",
       "      <td>Belorussky</td>\n",
       "    </tr>\n",
       "    <tr>\n",
       "      <th>1</th>\n",
       "      <td>1252</td>\n",
       "      <td>0</td>\n",
       "      <td>5</td>\n",
       "      <td>Расположен очень удобное, строятся новые пути ...</td>\n",
       "      <td>Пользователь Э.</td>\n",
       "      <td>5</td>\n",
       "      <td>2023-11-10T21:33:56.176Z</td>\n",
       "      <td>Belorussky</td>\n",
       "    </tr>\n",
       "    <tr>\n",
       "      <th>2</th>\n",
       "      <td>1253</td>\n",
       "      <td>2</td>\n",
       "      <td>7</td>\n",
       "      <td>Очень уютный и удобный вокзал. Мне он очень нр...</td>\n",
       "      <td>Н И</td>\n",
       "      <td>5</td>\n",
       "      <td>2023-08-25T14:27:29.327Z</td>\n",
       "      <td>Belorussky</td>\n",
       "    </tr>\n",
       "    <tr>\n",
       "      <th>3</th>\n",
       "      <td>1254</td>\n",
       "      <td>1</td>\n",
       "      <td>5</td>\n",
       "      <td>Красивое здание , очень удобно расположено в т...</td>\n",
       "      <td>Liliya Zugrova</td>\n",
       "      <td>5</td>\n",
       "      <td>2023-11-27T11:50:16.388Z</td>\n",
       "      <td>Belorussky</td>\n",
       "    </tr>\n",
       "    <tr>\n",
       "      <th>4</th>\n",
       "      <td>1255</td>\n",
       "      <td>2</td>\n",
       "      <td>7</td>\n",
       "      <td>С появление новых веток и маршрутов все стало ...</td>\n",
       "      <td>Татьяна Цымлова</td>\n",
       "      <td>5</td>\n",
       "      <td>2023-11-25T06:43:16.558Z</td>\n",
       "      <td>Belorussky</td>\n",
       "    </tr>\n",
       "    <tr>\n",
       "      <th>...</th>\n",
       "      <td>...</td>\n",
       "      <td>...</td>\n",
       "      <td>...</td>\n",
       "      <td>...</td>\n",
       "      <td>...</td>\n",
       "      <td>...</td>\n",
       "      <td>...</td>\n",
       "      <td>...</td>\n",
       "    </tr>\n",
       "    <tr>\n",
       "      <th>2264</th>\n",
       "      <td>2266</td>\n",
       "      <td>0</td>\n",
       "      <td>1</td>\n",
       "      <td>Отличный вокзал. Новый, современный, прям из в...</td>\n",
       "      <td>Анна Елагина</td>\n",
       "      <td>5</td>\n",
       "      <td>2024-02-02T04:55:15.074Z</td>\n",
       "      <td>Vostochny</td>\n",
       "    </tr>\n",
       "    <tr>\n",
       "      <th>2265</th>\n",
       "      <td>2267</td>\n",
       "      <td>1</td>\n",
       "      <td>0</td>\n",
       "      <td>Бывал недавно там )) очень вкусная кухня \\nКла...</td>\n",
       "      <td>Дмитрий</td>\n",
       "      <td>5</td>\n",
       "      <td>2023-11-12T14:21:47.541Z</td>\n",
       "      <td>Vostochny</td>\n",
       "    </tr>\n",
       "    <tr>\n",
       "      <th>2266</th>\n",
       "      <td>2268</td>\n",
       "      <td>0</td>\n",
       "      <td>0</td>\n",
       "      <td>Отличный и красивый вокзал. Чистые туалеты и б...</td>\n",
       "      <td>Валентина Архимановна</td>\n",
       "      <td>5</td>\n",
       "      <td>2024-01-31T10:53:36.364Z</td>\n",
       "      <td>Vostochny</td>\n",
       "    </tr>\n",
       "    <tr>\n",
       "      <th>2267</th>\n",
       "      <td>2269</td>\n",
       "      <td>3</td>\n",
       "      <td>10</td>\n",
       "      <td>Это не вокзал , а скорее узловая станция или п...</td>\n",
       "      <td>Владислав Баранов</td>\n",
       "      <td>2</td>\n",
       "      <td>2023-12-06T12:03:14.107Z</td>\n",
       "      <td>Vostochny</td>\n",
       "    </tr>\n",
       "    <tr>\n",
       "      <th>2268</th>\n",
       "      <td>2270</td>\n",
       "      <td>0</td>\n",
       "      <td>3</td>\n",
       "      <td>Очень приятный новый вокзал! Разобраться сложн...</td>\n",
       "      <td>Наталья Байбакова</td>\n",
       "      <td>5</td>\n",
       "      <td>2023-12-24T13:10:29.484Z</td>\n",
       "      <td>Vostochny</td>\n",
       "    </tr>\n",
       "  </tbody>\n",
       "</table>\n",
       "<p>2269 rows × 8 columns</p>\n",
       "</div>"
      ],
      "text/plain": [
       "        id  dislike  like  ... review_rating                  datetime     station\n",
       "0     1251        1    10  ...             5  2024-01-12T16:53:33.611Z  Belorussky\n",
       "1     1252        0     5  ...             5  2023-11-10T21:33:56.176Z  Belorussky\n",
       "2     1253        2     7  ...             5  2023-08-25T14:27:29.327Z  Belorussky\n",
       "3     1254        1     5  ...             5  2023-11-27T11:50:16.388Z  Belorussky\n",
       "4     1255        2     7  ...             5  2023-11-25T06:43:16.558Z  Belorussky\n",
       "...    ...      ...   ...  ...           ...                       ...         ...\n",
       "2264  2266        0     1  ...             5  2024-02-02T04:55:15.074Z   Vostochny\n",
       "2265  2267        1     0  ...             5  2023-11-12T14:21:47.541Z   Vostochny\n",
       "2266  2268        0     0  ...             5  2024-01-31T10:53:36.364Z   Vostochny\n",
       "2267  2269        3    10  ...             2  2023-12-06T12:03:14.107Z   Vostochny\n",
       "2268  2270        0     3  ...             5  2023-12-24T13:10:29.484Z   Vostochny\n",
       "\n",
       "[2269 rows x 8 columns]"
      ]
     },
     "execution_count": 3,
     "metadata": {},
     "output_type": "execute_result"
    }
   ],
   "source": [
    "import pandas as pd\n",
    "import os\n",
    "from glob import glob\n",
    "\n",
    "res = []\n",
    "for fn in glob('*.json'):\n",
    "    j = json.load(open(fn))\n",
    "    for x in j:\n",
    "        x['station'] = fn.split('_')[1]\n",
    "    res.extend(j)\n",
    "    \n",
    "df = pd.DataFrame(res)\n",
    "df"
   ]
  },
  {
   "cell_type": "markdown",
   "id": "10c02d14-db41-4644-b8ac-58f21d7a78f4",
   "metadata": {},
   "source": [
    "Посмотрим на количество отзывов по вокзалам:"
   ]
  },
  {
   "cell_type": "code",
   "execution_count": 4,
   "id": "6cb3889e-c454-4493-bec0-e7a8820e0ea2",
   "metadata": {
    "execution": {
     "iopub.execute_input": "2025-03-04T17:04:59.314452Z",
     "iopub.status.busy": "2025-03-04T17:04:59.313364Z",
     "iopub.status.idle": "2025-03-04T17:04:59.523353Z",
     "shell.execute_reply": "2025-03-04T17:04:59.522425Z",
     "shell.execute_reply.started": "2025-03-04T17:04:59.314412Z"
    },
    "tags": []
   },
   "outputs": [
    {
     "data": {
      "text/plain": [
       "<Axes: xlabel='station'>"
      ]
     },
     "execution_count": 4,
     "metadata": {},
     "output_type": "execute_result"
    },
    {
     "data": {
      "image/png": "[encoded data removed]",
      "text/plain": [
       "<Figure size 640x480 with 1 Axes>"
      ]
     },
     "metadata": {},
     "output_type": "display_data"
    }
   ],
   "source": [
    "df.groupby('station')['review_text'].count().plot.bar()"
   ]
  },
  {
   "cell_type": "markdown",
   "id": "a4439dc0-1991-4daa-89ca-5b855850d636",
   "metadata": {},
   "source": [
    "### Обогащение данных с помощью модели с HuggingFace\n",
    "\n",
    "Для обогащения данных можно использовать различные нейросетевые модели. Для начала, попробуем определить тональность текста."
   ]
  },
  {
   "cell_type": "markdown",
   "id": "441d1ab7-65ba-46da-85e1-1fd99bc30763",
   "metadata": {},
   "source": [
    "Попробуем использовать модель [blanchefort/rubert-base-cased-sentiment-rurewiews](https://huggingface.co/blanchefort/rubert-base-cased-sentiment-rurewiews) с HuggingFace, натренированную на отзывах, с длиной 512 токенов. По умолчанию код из карточки модели выдает следующие классы:\n",
    "* 0: NEUTRAL\n",
    "* 1: POSITIVE\n",
    "* 2: NEGATIVE\n",
    "\n",
    "> Код не учитывает возможность работы на GPU, поэтому придётся внести в код несколько исправлений, чтобы можно было быстрее выполнять код на GPU."
   ]
  },
  {
   "cell_type": "code",
   "execution_count": 1,
   "id": "8b435ee6-afe1-4028-90f6-76715a3a4d68",
   "metadata": {
    "execution": {
     "iopub.execute_input": "2025-03-04T17:02:36.497277Z",
     "iopub.status.busy": "2025-03-04T17:02:36.496350Z",
     "iopub.status.idle": "2025-03-04T17:04:59.230220Z",
     "shell.execute_reply": "2025-03-04T17:04:59.229355Z",
     "shell.execute_reply.started": "2025-03-04T17:02:36.497235Z"
    },
    "tags": []
   },
   "outputs": [
    {
     "name": "stderr",
     "output_type": "stream",
     "text": [
      "/home/jupyter/.local/lib/python3.10/site-packages/transformers/utils/hub.py:106: FutureWarning: Using `TRANSFORMERS_CACHE` is deprecated and will be removed in v5 of Transformers. Use `HF_HOME` instead.\n",
      "  warnings.warn(\n",
      "2025-03-04 17:03:01.914739: I tensorflow/core/util/port.cc:110] oneDNN custom operations are on. You may see slightly different numerical results due to floating-point round-off errors from different computation orders. To turn them off, set the environment variable `TF_ENABLE_ONEDNN_OPTS=0`.\n",
      "2025-03-04 17:03:05.724229: I tensorflow/core/platform/cpu_feature_guard.cc:182] This TensorFlow binary is optimized to use available CPU instructions in performance-critical operations.\n",
      "To enable the following instructions: AVX2 AVX512F AVX512_VNNI FMA, in other operations, rebuild TensorFlow with the appropriate compiler flags.\n",
      "2025-03-04 17:03:16.265327: W tensorflow/compiler/tf2tensorrt/utils/py_utils.cc:38] TF-TRT Warning: Could not find TensorRT\n"
     ]
    }
   ],
   "source": [
    "import torch\n",
    "from transformers import AutoModelForSequenceClassification\n",
    "from transformers import BertTokenizerFast\n",
    "\n",
    "device = \"cuda\" if torch.cuda.is_available() else \"cpu\"\n",
    "\n",
    "tokenizer = BertTokenizerFast.from_pretrained('blanchefort/rubert-base-cased-sentiment-rurewiews')\n",
    "model = AutoModelForSequenceClassification.from_pretrained('blanchefort/rubert-base-cased-sentiment-rurewiews', return_dict=True)\n",
    "model.to(device)\n",
    "\n",
    "@torch.no_grad()\n",
    "def predict(text):\n",
    "    inputs = tokenizer(text, max_length=512, padding=True, truncation=True, return_tensors='pt')\n",
    "    inputs = inputs.to(device)\n",
    "    outputs = model(**inputs)\n",
    "    predicted = torch.nn.functional.softmax(outputs.logits, dim=1)\n",
    "    predicted = torch.argmax(predicted, dim=1).cpu().numpy()\n",
    "    return predicted\n"
   ]
  },
  {
   "cell_type": "markdown",
   "id": "4fe1bac1-d605-4297-b491-6ab88cd51bca",
   "metadata": {},
   "source": [
    "Проверим, работает ли эта функция:"
   ]
  },
  {
   "cell_type": "code",
   "execution_count": 5,
   "id": "99b31f76-9f0e-4a2d-a586-e7fd60dbb59d",
   "metadata": {
    "execution": {
     "iopub.execute_input": "2025-03-04T17:05:03.402170Z",
     "iopub.status.busy": "2025-03-04T17:05:03.401151Z",
     "iopub.status.idle": "2025-03-04T17:05:05.730570Z",
     "shell.execute_reply": "2025-03-04T17:05:05.729761Z",
     "shell.execute_reply.started": "2025-03-04T17:05:03.402128Z"
    },
    "tags": []
   },
   "outputs": [
    {
     "data": {
      "text/plain": [
       "array([0, 1, 2])"
      ]
     },
     "execution_count": 5,
     "metadata": {},
     "output_type": "execute_result"
    }
   ],
   "source": [
    "predict([\n",
    "    'Ничего так вокзал, обычный...',\n",
    "    'Обожаю этот вокзал, там такие симпатичные бомжи!',\n",
    "    'Ненавижу это вокзал, поезда всегда опаздывают минимум на 20 минут'])"
   ]
  },
  {
   "cell_type": "markdown",
   "id": "6ef441e4-151e-4f75-b723-38c6f323c0e9",
   "metadata": {},
   "source": [
    "Чтобы применить модель ко всему датасету, разобьем его на небольшие части, примерное по 200 отзывов, и предскажем тональность каждой из этих частей."
   ]
  },
  {
   "cell_type": "code",
   "execution_count": 6,
   "id": "f9179709-020e-44df-8f00-2adf00366a62",
   "metadata": {
    "execution": {
     "iopub.execute_input": "2025-03-04T17:05:08.787829Z",
     "iopub.status.busy": "2025-03-04T17:05:08.786731Z",
     "iopub.status.idle": "2025-03-04T17:05:51.182953Z",
     "shell.execute_reply": "2025-03-04T17:05:51.182042Z",
     "shell.execute_reply.started": "2025-03-04T17:05:08.787780Z"
    },
    "tags": []
   },
   "outputs": [
    {
     "name": "stderr",
     "output_type": "stream",
     "text": [
      "100%|██████████| 10/10 [00:42<00:00,  4.24s/it]\n"
     ]
    }
   ],
   "source": [
    "from tqdm.auto import tqdm\n",
    "import numpy as np \n",
    "\n",
    "res = []\n",
    "for d in tqdm(np.array_split(df,10)):\n",
    "    z = list(d['review_text'])\n",
    "    p = predict(z)\n",
    "    res.extend(p)"
   ]
  },
  {
   "cell_type": "markdown",
   "id": "22c69be8-8473-4a49-be99-cf4c5151e85c",
   "metadata": {},
   "source": [
    "Для удобства вставим колонку `sentiment` в датасет, но при этом изменим кодирование: будем представлять негативный отзыв цифрой -1."
   ]
  },
  {
   "cell_type": "code",
   "execution_count": 7,
   "id": "47ae1ba9-9425-46d7-88d6-822fcd3027b9",
   "metadata": {
    "execution": {
     "iopub.execute_input": "2025-03-04T17:05:53.578593Z",
     "iopub.status.busy": "2025-03-04T17:05:53.577343Z",
     "iopub.status.idle": "2025-03-04T17:05:53.604723Z",
     "shell.execute_reply": "2025-03-04T17:05:53.603781Z",
     "shell.execute_reply.started": "2025-03-04T17:05:53.578556Z"
    },
    "tags": []
   },
   "outputs": [],
   "source": [
    "df['sentiment'] = pd.Series(res).apply(lambda x: -1 if x==2 else x)"
   ]
  },
  {
   "cell_type": "markdown",
   "id": "a397f302-a542-462b-b70d-06145245b8f7",
   "metadata": {},
   "source": [
    "Запишем получившийся датасет на диск:"
   ]
  },
  {
   "cell_type": "code",
   "execution_count": 17,
   "id": "1a0afc80-12d2-4a5b-8084-4dfceac173bf",
   "metadata": {
    "execution": {
     "iopub.execute_input": "2025-03-04T17:19:22.511845Z",
     "iopub.status.busy": "2025-03-04T17:19:22.510711Z",
     "iopub.status.idle": "2025-03-04T17:19:22.580213Z",
     "shell.execute_reply": "2025-03-04T17:19:22.579307Z",
     "shell.execute_reply.started": "2025-03-04T17:19:22.511801Z"
    },
    "tags": []
   },
   "outputs": [],
   "source": [
    "df.to_csv('dataset_with_sentiment.csv',index=False)"
   ]
  },
  {
   "cell_type": "markdown",
   "id": "1a8603eb-ab42-4c7e-81c9-5256894727f0",
   "metadata": {},
   "source": [
    "Теперь можем посмотреть, какие вокзалы самые негативные или позитивные в Москве:"
   ]
  },
  {
   "cell_type": "code",
   "execution_count": 9,
   "id": "e1afca3f-3b69-4d84-961f-95949e3a279b",
   "metadata": {
    "execution": {
     "iopub.execute_input": "2025-03-04T17:06:01.906589Z",
     "iopub.status.busy": "2025-03-04T17:06:01.905727Z",
     "iopub.status.idle": "2025-03-04T17:06:02.016544Z",
     "shell.execute_reply": "2025-03-04T17:06:02.015733Z",
     "shell.execute_reply.started": "2025-03-04T17:06:01.906547Z"
    },
    "tags": []
   },
   "outputs": [
    {
     "data": {
      "text/html": [
       "<div>\n",
       "<style scoped>\n",
       "    .dataframe tbody tr th:only-of-type {\n",
       "        vertical-align: middle;\n",
       "    }\n",
       "\n",
       "    .dataframe tbody tr th {\n",
       "        vertical-align: top;\n",
       "    }\n",
       "\n",
       "    .dataframe thead tr th {\n",
       "        text-align: left;\n",
       "    }\n",
       "\n",
       "    .dataframe thead tr:last-of-type th {\n",
       "        text-align: right;\n",
       "    }\n",
       "</style>\n",
       "<table border=\"1\" class=\"dataframe\">\n",
       "  <thead>\n",
       "    <tr>\n",
       "      <th></th>\n",
       "      <th colspan=\"3\" halign=\"left\">sentiment</th>\n",
       "      <th>review_text</th>\n",
       "    </tr>\n",
       "    <tr>\n",
       "      <th></th>\n",
       "      <th>mean</th>\n",
       "      <th>count_pos</th>\n",
       "      <th>count_neg</th>\n",
       "      <th>count</th>\n",
       "    </tr>\n",
       "    <tr>\n",
       "      <th>station</th>\n",
       "      <th></th>\n",
       "      <th></th>\n",
       "      <th></th>\n",
       "      <th></th>\n",
       "    </tr>\n",
       "  </thead>\n",
       "  <tbody>\n",
       "    <tr>\n",
       "      <th>Belorussky</th>\n",
       "      <td>0.680000</td>\n",
       "      <td>36</td>\n",
       "      <td>2</td>\n",
       "      <td>50</td>\n",
       "    </tr>\n",
       "    <tr>\n",
       "      <th>Kazan</th>\n",
       "      <td>0.647619</td>\n",
       "      <td>143</td>\n",
       "      <td>7</td>\n",
       "      <td>210</td>\n",
       "    </tr>\n",
       "    <tr>\n",
       "      <th>Kursky</th>\n",
       "      <td>0.395000</td>\n",
       "      <td>277</td>\n",
       "      <td>40</td>\n",
       "      <td>600</td>\n",
       "    </tr>\n",
       "    <tr>\n",
       "      <th>Kyiv</th>\n",
       "      <td>0.599332</td>\n",
       "      <td>385</td>\n",
       "      <td>26</td>\n",
       "      <td>599</td>\n",
       "    </tr>\n",
       "    <tr>\n",
       "      <th>Paveletsky</th>\n",
       "      <td>0.540000</td>\n",
       "      <td>27</td>\n",
       "      <td>0</td>\n",
       "      <td>50</td>\n",
       "    </tr>\n",
       "    <tr>\n",
       "      <th>Rizhsky</th>\n",
       "      <td>0.560000</td>\n",
       "      <td>374</td>\n",
       "      <td>38</td>\n",
       "      <td>600</td>\n",
       "    </tr>\n",
       "    <tr>\n",
       "      <th>Savyolovsky</th>\n",
       "      <td>0.480000</td>\n",
       "      <td>29</td>\n",
       "      <td>5</td>\n",
       "      <td>50</td>\n",
       "    </tr>\n",
       "    <tr>\n",
       "      <th>Vostochny</th>\n",
       "      <td>0.618182</td>\n",
       "      <td>71</td>\n",
       "      <td>3</td>\n",
       "      <td>110</td>\n",
       "    </tr>\n",
       "  </tbody>\n",
       "</table>\n",
       "</div>"
      ],
      "text/plain": [
       "            sentiment                     review_text\n",
       "                 mean count_pos count_neg       count\n",
       "station                                              \n",
       "Belorussky   0.680000        36         2          50\n",
       "Kazan        0.647619       143         7         210\n",
       "Kursky       0.395000       277        40         600\n",
       "Kyiv         0.599332       385        26         599\n",
       "Paveletsky   0.540000        27         0          50\n",
       "Rizhsky      0.560000       374        38         600\n",
       "Savyolovsky  0.480000        29         5          50\n",
       "Vostochny    0.618182        71         3         110"
      ]
     },
     "execution_count": 9,
     "metadata": {},
     "output_type": "execute_result"
    }
   ],
   "source": [
    "def count_pos(x):\n",
    "    return x[x==1].count()\n",
    "def count_neg(x):\n",
    "    return x[x==-1].count()\n",
    "\n",
    "\n",
    "df.groupby('station').agg({'sentiment' : ['mean', count_pos, count_neg ], 'review_text': 'count'})"
   ]
  },
  {
   "cell_type": "markdown",
   "id": "8cef2b36-944e-43d6-beca-4bf805729343",
   "metadata": {},
   "source": [
    "В этом месте вы можете остановить виртуальную машину с GPU и перейти на более дешевый вариант **c1.4**"
   ]
  },
  {
   "cell_type": "markdown",
   "id": "59a5ab99-6c07-4434-a75c-9eb64b548d7d",
   "metadata": {
    "tags": []
   },
   "source": [
    "### Используем YandexGPT для извлечения смысла из отзывов\n",
    "\n",
    "Попробуем использовать больую языковую модель для извлечения структурированной информации из текстов отзывов. Для работы с моделью будем использовать [Yandex Cloud ML SDK](https://yandex.cloud/ru/docs/foundation-models/quickstart/yandexgpt)."
   ]
  },
  {
   "cell_type": "markdown",
   "id": "40da2938-14d2-4274-b61e-46e4a316714b",
   "metadata": {},
   "source": [
    "Для работы с YandexGPT, нам потребуются значения `api_key` и `folder_id`. Их надо взять из секретов датасферы."
   ]
  },
  {
   "cell_type": "code",
   "execution_count": 3,
   "id": "cd65bd33-b306-453c-988c-d87880a09d81",
   "metadata": {
    "execution": {
     "iopub.execute_input": "2025-03-04T17:47:24.549852Z",
     "iopub.status.busy": "2025-03-04T17:47:24.548564Z",
     "iopub.status.idle": "2025-03-04T17:47:24.590424Z",
     "shell.execute_reply": "2025-03-04T17:47:24.589596Z",
     "shell.execute_reply.started": "2025-03-04T17:47:24.549813Z"
    },
    "tags": []
   },
   "outputs": [
    {
     "name": "stdout",
     "output_type": "stream",
     "text": [
      "Using folder b1g6krtrd2vcbunvjpg6\n"
     ]
    }
   ],
   "source": [
    "import os\n",
    "\n",
    "folder_id = os.environ['folder_id']\n",
    "api_key = os.environ['api_key']\n",
    "print(f\"Using folder {folder_id}\")"
   ]
  },
  {
   "cell_type": "markdown",
   "id": "ed3ce532-2864-4f49-99c4-20832cd1c6dc",
   "metadata": {},
   "source": [
    "Создадим функцию для вызова модели Yandex GPT:"
   ]
  },
  {
   "cell_type": "code",
   "execution_count": 7,
   "id": "95e05049-8b1c-4a00-8ef4-665fdbc35968",
   "metadata": {
    "execution": {
     "iopub.execute_input": "2025-03-04T17:53:12.439115Z",
     "iopub.status.busy": "2025-03-04T17:53:12.437991Z",
     "iopub.status.idle": "2025-03-04T17:53:14.395790Z",
     "shell.execute_reply": "2025-03-04T17:53:14.394963Z",
     "shell.execute_reply.started": "2025-03-04T17:53:12.439056Z"
    },
    "tags": []
   },
   "outputs": [
    {
     "data": {
      "text/plain": [
       "'Два программиста спорят, какой формат данных лучше: JSON или XML. Один говорит:\\n\\n— JSON такой компактный и простой! Всё так легко читается и анализируется!\\n\\nВторой отвечает:\\n\\n— Да, но в XML у меня есть пространства имён, схемы и валидация. Это как разница между автомобилем и велосипедом: велосипед проще и быстрее, но автомобиль предлагает больше возможностей и комфорта.\\n\\nПервый программист задумчиво отвечает:\\n\\n— Ну да, но кому нужен автомобиль, если ты едешь всего лишь за углом за пиццей?'"
      ]
     },
     "execution_count": 7,
     "metadata": {},
     "output_type": "execute_result"
    }
   ],
   "source": [
    "from yandex_cloud_ml_sdk import YCloudML\n",
    "\n",
    "sdk = YCloudML(folder_id=folder_id,auth=api_key)\n",
    "\n",
    "def gpt(messages,\n",
    "        system_message=None,\n",
    "        model=\"yandexgpt\", model_version=\"rc\",\n",
    "        return_text=True,\n",
    "        return_json=False):\n",
    "    if isinstance(messages,str):\n",
    "        messages = [{ \"role\" : \"user\", \"text\" : messages }]\n",
    "        if system_message is not None:\n",
    "            messages.insert(0, { \"role\" : \"system\", \"text\" : system_message })\n",
    "    model = sdk.models.completions(model,model_version=model_version)\n",
    "    if return_json:\n",
    "        model = model.configure(response_format='json')\n",
    "    res = model.run(messages)\n",
    "    res = res.alternatives[0]\n",
    "    return res.text if return_text else res\n",
    "\n",
    "gpt(\"Расскажи анекдот про JSON и XML\")"
   ]
  },
  {
   "cell_type": "markdown",
   "id": "e748bd9b-0e9f-436f-b1b7-fa7e46f69c4b",
   "metadata": {},
   "source": [
    "Для обработки, чтобы ускорить процесс демонстрации, выберем по 10 записей из каждого вокзала:"
   ]
  },
  {
   "cell_type": "code",
   "execution_count": 56,
   "id": "305d3630-4f00-46f9-9312-56b18d63868a",
   "metadata": {
    "execution": {
     "iopub.execute_input": "2025-03-04T18:08:45.190092Z",
     "iopub.status.busy": "2025-03-04T18:08:45.188951Z",
     "iopub.status.idle": "2025-03-04T18:08:45.263504Z",
     "shell.execute_reply": "2025-03-04T18:08:45.262563Z",
     "shell.execute_reply.started": "2025-03-04T18:08:45.190049Z"
    },
    "tags": []
   },
   "outputs": [
    {
     "data": {
      "text/html": [
       "<div>\n",
       "<style scoped>\n",
       "    .dataframe tbody tr th:only-of-type {\n",
       "        vertical-align: middle;\n",
       "    }\n",
       "\n",
       "    .dataframe tbody tr th {\n",
       "        vertical-align: top;\n",
       "    }\n",
       "\n",
       "    .dataframe thead th {\n",
       "        text-align: right;\n",
       "    }\n",
       "</style>\n",
       "<table border=\"1\" class=\"dataframe\">\n",
       "  <thead>\n",
       "    <tr style=\"text-align: right;\">\n",
       "      <th></th>\n",
       "      <th>id</th>\n",
       "      <th>dislike</th>\n",
       "      <th>like</th>\n",
       "      <th>review_text</th>\n",
       "      <th>author</th>\n",
       "      <th>review_rating</th>\n",
       "      <th>datetime</th>\n",
       "      <th>station</th>\n",
       "      <th>sentiment</th>\n",
       "    </tr>\n",
       "  </thead>\n",
       "  <tbody>\n",
       "    <tr>\n",
       "      <th>0</th>\n",
       "      <td>1253</td>\n",
       "      <td>2</td>\n",
       "      <td>7</td>\n",
       "      <td>Очень уютный и удобный вокзал. Мне он очень нр...</td>\n",
       "      <td>Н И</td>\n",
       "      <td>5</td>\n",
       "      <td>2023-08-25T14:27:29.327Z</td>\n",
       "      <td>Belorussky</td>\n",
       "      <td>1</td>\n",
       "    </tr>\n",
       "    <tr>\n",
       "      <th>1</th>\n",
       "      <td>1291</td>\n",
       "      <td>2</td>\n",
       "      <td>7</td>\n",
       "      <td>Красивое, атмосферное место, а ещё и функциона...</td>\n",
       "      <td>Светлана Смирнова</td>\n",
       "      <td>5</td>\n",
       "      <td>2024-02-13T12:34:33.803Z</td>\n",
       "      <td>Belorussky</td>\n",
       "      <td>1</td>\n",
       "    </tr>\n",
       "    <tr>\n",
       "      <th>2</th>\n",
       "      <td>1265</td>\n",
       "      <td>0</td>\n",
       "      <td>0</td>\n",
       "      <td>Сам вокзал наполнен всем чем только можно, и б...</td>\n",
       "      <td>Евгения Метликина</td>\n",
       "      <td>5</td>\n",
       "      <td>2023-10-20T17:48:42.357Z</td>\n",
       "      <td>Belorussky</td>\n",
       "      <td>1</td>\n",
       "    </tr>\n",
       "    <tr>\n",
       "      <th>3</th>\n",
       "      <td>1280</td>\n",
       "      <td>0</td>\n",
       "      <td>0</td>\n",
       "      <td>Сам вокзал очень удобно расположен к станции м...</td>\n",
       "      <td>Юлия Морозова</td>\n",
       "      <td>5</td>\n",
       "      <td>2023-12-14T22:52:14.108Z</td>\n",
       "      <td>Belorussky</td>\n",
       "      <td>1</td>\n",
       "    </tr>\n",
       "    <tr>\n",
       "      <th>4</th>\n",
       "      <td>1277</td>\n",
       "      <td>0</td>\n",
       "      <td>5</td>\n",
       "      <td>Мой любимый вокзал ❤️‍🔥 до дома доезжаю быстро...</td>\n",
       "      <td>Ирина Мартынова</td>\n",
       "      <td>5</td>\n",
       "      <td>2024-02-13T12:20:02.161Z</td>\n",
       "      <td>Belorussky</td>\n",
       "      <td>1</td>\n",
       "    </tr>\n",
       "    <tr>\n",
       "      <th>...</th>\n",
       "      <td>...</td>\n",
       "      <td>...</td>\n",
       "      <td>...</td>\n",
       "      <td>...</td>\n",
       "      <td>...</td>\n",
       "      <td>...</td>\n",
       "      <td>...</td>\n",
       "      <td>...</td>\n",
       "      <td>...</td>\n",
       "    </tr>\n",
       "    <tr>\n",
       "      <th>75</th>\n",
       "      <td>2171</td>\n",
       "      <td>0</td>\n",
       "      <td>0</td>\n",
       "      <td>Восточный вокзал, десятый вокзал Москвы. Мален...</td>\n",
       "      <td>Armen Carapetiani</td>\n",
       "      <td>5</td>\n",
       "      <td>2024-01-18T05:36:05.521Z</td>\n",
       "      <td>Vostochny</td>\n",
       "      <td>1</td>\n",
       "    </tr>\n",
       "    <tr>\n",
       "      <th>76</th>\n",
       "      <td>2167</td>\n",
       "      <td>2</td>\n",
       "      <td>20</td>\n",
       "      <td>Часто езжу через этот вокзал. В целом всё терп...</td>\n",
       "      <td>Надежда Вертелецкая</td>\n",
       "      <td>2</td>\n",
       "      <td>2024-02-21T09:59:45.251Z</td>\n",
       "      <td>Vostochny</td>\n",
       "      <td>0</td>\n",
       "    </tr>\n",
       "    <tr>\n",
       "      <th>77</th>\n",
       "      <td>2217</td>\n",
       "      <td>0</td>\n",
       "      <td>0</td>\n",
       "      <td>Сделано конечно на высоком уровне. Есть неболь...</td>\n",
       "      <td>Геннадий</td>\n",
       "      <td>5</td>\n",
       "      <td>2024-03-08T12:01:58.295Z</td>\n",
       "      <td>Vostochny</td>\n",
       "      <td>0</td>\n",
       "    </tr>\n",
       "    <tr>\n",
       "      <th>78</th>\n",
       "      <td>2221</td>\n",
       "      <td>0</td>\n",
       "      <td>0</td>\n",
       "      <td>Полно чудес в Москве. Восточный вокзал одно из...</td>\n",
       "      <td>Андрей Хоменко</td>\n",
       "      <td>3</td>\n",
       "      <td>2023-12-05T17:05:26.888Z</td>\n",
       "      <td>Vostochny</td>\n",
       "      <td>0</td>\n",
       "    </tr>\n",
       "    <tr>\n",
       "      <th>79</th>\n",
       "      <td>2239</td>\n",
       "      <td>0</td>\n",
       "      <td>0</td>\n",
       "      <td>Чисто! Аккуратно! Круглосуточное кафе! Много а...</td>\n",
       "      <td>Вита Волгина</td>\n",
       "      <td>4</td>\n",
       "      <td>2024-02-08T05:20:58.794Z</td>\n",
       "      <td>Vostochny</td>\n",
       "      <td>0</td>\n",
       "    </tr>\n",
       "  </tbody>\n",
       "</table>\n",
       "<p>80 rows × 9 columns</p>\n",
       "</div>"
      ],
      "text/plain": [
       "      id  dislike  like  ...                  datetime     station  sentiment\n",
       "0   1253        2     7  ...  2023-08-25T14:27:29.327Z  Belorussky          1\n",
       "1   1291        2     7  ...  2024-02-13T12:34:33.803Z  Belorussky          1\n",
       "2   1265        0     0  ...  2023-10-20T17:48:42.357Z  Belorussky          1\n",
       "3   1280        0     0  ...  2023-12-14T22:52:14.108Z  Belorussky          1\n",
       "4   1277        0     5  ...  2024-02-13T12:20:02.161Z  Belorussky          1\n",
       "..   ...      ...   ...  ...                       ...         ...        ...\n",
       "75  2171        0     0  ...  2024-01-18T05:36:05.521Z   Vostochny          1\n",
       "76  2167        2    20  ...  2024-02-21T09:59:45.251Z   Vostochny          0\n",
       "77  2217        0     0  ...  2024-03-08T12:01:58.295Z   Vostochny          0\n",
       "78  2221        0     0  ...  2023-12-05T17:05:26.888Z   Vostochny          0\n",
       "79  2239        0     0  ...  2024-02-08T05:20:58.794Z   Vostochny          0\n",
       "\n",
       "[80 rows x 9 columns]"
      ]
     },
     "execution_count": 56,
     "metadata": {},
     "output_type": "execute_result"
    }
   ],
   "source": [
    "import pandas as pd\n",
    "\n",
    "df = pd.read_csv('dataset_with_sentiment.csv')\n",
    "df_sample = df.groupby('station').apply(lambda x: x.sample(10)).reset_index(drop=True)\n",
    "df_sample"
   ]
  },
  {
   "cell_type": "markdown",
   "id": "1c0d8087-3135-4258-835d-9b2a9c885080",
   "metadata": {},
   "source": [
    "Попробуем выделить смысл из текста отзыва. Для примера выберем три аспекта отзывов: транспортная доступность вокзала, его чистота и точность хождения поездов. По каждому из этих аспектов попробуем выделить оценку, также в целом положительные и отрицательные моменты, и список тегов, о чем этот отзыв."
   ]
  },
  {
   "cell_type": "code",
   "execution_count": 57,
   "id": "81bcfcaa-c4d8-46cc-9a34-d93a3a6e4a3a",
   "metadata": {
    "execution": {
     "iopub.execute_input": "2025-03-04T18:08:48.646584Z",
     "iopub.status.busy": "2025-03-04T18:08:48.645751Z",
     "iopub.status.idle": "2025-03-04T18:08:50.149745Z",
     "shell.execute_reply": "2025-03-04T18:08:50.148829Z",
     "shell.execute_reply.started": "2025-03-04T18:08:48.646540Z"
    },
    "tags": []
   },
   "outputs": [
    {
     "name": "stdout",
     "output_type": "stream",
     "text": [
      "Очень красивое место, вежливый персонал.\n",
      "Ездила на поезде из Москвы в Беларусь, комфортно, белье чистое, тепло, можно с животными. Дают горячий чай прям в постель, можно даже не переутруждаться, там о вВс и вашем комфорте позаботиться квалифицированные сотрудники.\n"
     ]
    },
    {
     "data": {
      "text/plain": [
       "'```\\n{\\n  \"sentiment\": \"positive\",\\n  \"transport\": 0,\\n  \"cleanliness\": 5,\\n  \"schedule\": 0,\\n  \"positive\": [\"красивое место\", \"вежливый персонал\", \"комфортно\", \"чистое бельё\", \"тепло\", \"можно с животными\", \"дают горячий чай в постель\", \"квалифицированные сотрудники заботятся о комфорте\"],\\n  \"negative\": [],\\n  \"tags\": [\"comfort\", \"staff\", \"animals\", \"service\"]\\n}\\n```'"
      ]
     },
     "execution_count": 57,
     "metadata": {},
     "output_type": "execute_result"
    }
   ],
   "source": [
    "prompt = \"\"\"\n",
    "Прочитай следующий отзыв о вокзале в тройных обратных кавычках: ````{}```.\n",
    "Из этого отзыва тебе необходимо выделить следующую информацию:\n",
    "* sentiment - этот отзыв позитивный (positive), негативный (negative) или нейтральный (neutral)\n",
    "* transport - транспортная доступность вокзала, по шкале 1..5, если об это говорится в отзыве. Если нет - 0\n",
    "* cleanliness - чистота вокзала, по шкале 1..5, если об это говорится в отзыве. Если нет - 0\n",
    "* schedule - точность хождения поездов, по шкале 1..5, если об это говорится в отзыве. Если нет - 0\n",
    "* positive - краткий список позитивных моментов из отзыва\n",
    "* negative - краткий список негативных моментов из отзыва\n",
    "* tags - краткий список тегов, о чем этот отзыв, например: cleanliness, transport, trains\n",
    "Результат необходимо вернуть в формате JSON такого вида:\n",
    "{{\n",
    "  \"sentiment\" : \"...\",\n",
    "  \"transport\" : ...,\n",
    "  \"cleanliness\" : ...,\n",
    "  \"schedule\" : ...,\n",
    "  \"positive\" : [\"...\", ...],\n",
    "  \"negative\" : [\"...\", ...],\n",
    "  \"tags\" : [\"...\"]\n",
    "}}\n",
    "Обязательно пиши все строки внутри JSON в двойных кавычках. Не забывай ставить запятые после \n",
    "всех полей в JSON, кроме последнего.\n",
    "\"\"\"\n",
    "\n",
    "txt = df['review_text'].iloc[0]\n",
    "print(txt)\n",
    "res = gpt(prompt.format(txt))\n",
    "res"
   ]
  },
  {
   "cell_type": "markdown",
   "id": "f51045ba-4916-4855-be47-6eaf907a499e",
   "metadata": {},
   "source": [
    "Чтобы гарантировать возврат ответа в формате JSON, используем так называемый structured output. В нашей функции `gpt` мы предусмотрели параметр `return_json`, который настраивает модель на формат ответа в виде JSON. Мы также можем настроить модель на конкретную JSON Schema."
   ]
  },
  {
   "cell_type": "code",
   "execution_count": 9,
   "id": "6bc4eca0-a9f5-4619-a630-4a12ddb7fb60",
   "metadata": {
    "execution": {
     "iopub.execute_input": "2025-03-04T17:55:31.762908Z",
     "iopub.status.busy": "2025-03-04T17:55:31.762014Z",
     "iopub.status.idle": "2025-03-04T17:55:33.325041Z",
     "shell.execute_reply": "2025-03-04T17:55:33.324250Z",
     "shell.execute_reply.started": "2025-03-04T17:55:31.762864Z"
    },
    "tags": []
   },
   "outputs": [
    {
     "name": "stdout",
     "output_type": "stream",
     "text": [
      "Очень красивое место, вежливый персонал.\n",
      "Ездила на поезде из Москвы в Беларусь, комфортно, белье чистое, тепло, можно с животными. Дают горячий чай прям в постель, можно даже не переутруждаться, там о вВс и вашем комфорте позаботиться квалифицированные сотрудники.\n"
     ]
    },
    {
     "data": {
      "text/plain": [
       "{'sentiment': 'positive',\n",
       " 'transport': 0,\n",
       " 'cleanliness': 5,\n",
       " 'schedule': 0,\n",
       " 'positive': ['красивое место',\n",
       "  'вежливый персонал',\n",
       "  'комфортно',\n",
       "  'чистое бельё',\n",
       "  'тепло',\n",
       "  'можно с животными',\n",
       "  'дают горячий чай в постель',\n",
       "  'квалифицированные сотрудники заботятся о комфорте'],\n",
       " 'negative': [],\n",
       " 'tags': ['cleanliness', 'comfort', 'service']}"
      ]
     },
     "execution_count": 9,
     "metadata": {},
     "output_type": "execute_result"
    }
   ],
   "source": [
    "import json \n",
    "\n",
    "txt = df['review_text'].iloc[0]\n",
    "print(txt)\n",
    "res = json.loads(gpt(prompt.format(txt),return_json=True))\n",
    "res"
   ]
  },
  {
   "cell_type": "markdown",
   "id": "59fb9473-45f3-4c70-ac2d-14d10ecb5cf0",
   "metadata": {},
   "source": [
    "Сохраним колонку `sentiment`, распознанную моделью HuggingFace."
   ]
  },
  {
   "cell_type": "code",
   "execution_count": 58,
   "id": "43eaee49-bc55-480b-aee1-4a17b94ea86d",
   "metadata": {
    "execution": {
     "iopub.execute_input": "2025-03-04T18:08:54.757089Z",
     "iopub.status.busy": "2025-03-04T18:08:54.755976Z",
     "iopub.status.idle": "2025-03-04T18:08:54.790816Z",
     "shell.execute_reply": "2025-03-04T18:08:54.790052Z",
     "shell.execute_reply.started": "2025-03-04T18:08:54.757043Z"
    },
    "tags": []
   },
   "outputs": [],
   "source": [
    "pmap = { -1 : 'negative', 0 : 'neutral', 1 : 'positive' }\n",
    "df_sample['hf_sentiment'] = df_sample['sentiment'].apply(lambda x: pmap[x])\n",
    "df_sample.drop(columns=['sentiment'],inplace=True)"
   ]
  },
  {
   "cell_type": "markdown",
   "id": "e3edfeb7-5f28-4dac-b6e1-35b8befc0889",
   "metadata": {},
   "source": [
    "Теперь пройдёмся по всем строкам таблицы и извлечём информацию с помощью LLM. Для начала добавим новые пустые поля в таблицу, для хранения извлечённых значений:"
   ]
  },
  {
   "cell_type": "code",
   "execution_count": 59,
   "id": "8cfd4ffd-1134-4d50-a6ce-7d58ce747214",
   "metadata": {
    "execution": {
     "iopub.execute_input": "2025-03-04T18:08:57.609514Z",
     "iopub.status.busy": "2025-03-04T18:08:57.608673Z",
     "iopub.status.idle": "2025-03-04T18:08:57.625972Z",
     "shell.execute_reply": "2025-03-04T18:08:57.625235Z",
     "shell.execute_reply.started": "2025-03-04T18:08:57.609473Z"
    },
    "tags": []
   },
   "outputs": [],
   "source": [
    "import numpy as np\n",
    "\n",
    "for f in [\"sentiment\",\"transport\",\"cleanliness\", \"schedule\", \"positive\", \"negative\", \"tags\"]:\n",
    "    df_sample[f]=np.nan"
   ]
  },
  {
   "cell_type": "markdown",
   "id": "94ed3f1f-aaeb-4e7a-8bbd-e40c06a143f5",
   "metadata": {},
   "source": [
    "Теперь собственно займёмся извлечением. Если для какого-то отзыва YandexGPT вернёт некорректный JSON, то отзыв будет пропущен. Мы можем запустить этот код несколько раз, чтобы попробовать распознать все отзывы. Он будет пропускать те отзывы, для которые поле `positive` уже заполнено.\n",
    "\n",
    "> Обратите внимание, что мы используем несколько приёмов для уменьшения проблем с JSON. Например, если возвращенный JSON содержит вводный текст вида *Вот документ, который вы просили: {...}*, то мы выделяем весь текст между символами `{` и `}`. Также заменяем одинарные кавычки на двойные."
   ]
  },
  {
   "cell_type": "code",
   "execution_count": 60,
   "id": "4a7b2ed4-86be-4014-9e20-c6fc7c4a7621",
   "metadata": {
    "execution": {
     "iopub.execute_input": "2025-03-04T18:09:00.203459Z",
     "iopub.status.busy": "2025-03-04T18:09:00.202578Z",
     "iopub.status.idle": "2025-03-04T18:10:34.145567Z",
     "shell.execute_reply": "2025-03-04T18:10:34.144801Z",
     "shell.execute_reply.started": "2025-03-04T18:09:00.203415Z"
    },
    "tags": []
   },
   "outputs": [
    {
     "name": "stderr",
     "output_type": "stream",
     "text": [
      "100%|██████████| 80/80 [01:33<00:00,  1.17s/it]\n"
     ]
    }
   ],
   "source": [
    "from tqdm.auto import tqdm\n",
    "import numpy as np\n",
    "\n",
    "def lin(x):\n",
    "    if isinstance(x,list):\n",
    "        return ','.join(x)\n",
    "    elif isinstance(x,float):\n",
    "        return ''\n",
    "    else:\n",
    "        return x\n",
    "    \n",
    "for i,r in tqdm(df_sample.iterrows(),total=len(df_sample)):\n",
    "    txt = r['review_text']\n",
    "    if not pd.isnull(r['positive']):\n",
    "        continue # уже распознано\n",
    "    try:\n",
    "        res = gpt(prompt.format(txt),return_json=True)\n",
    "        res = json.loads(res)\n",
    "        for f in [\"sentiment\",\"transport\",\"cleanliness\", \"schedule\", \"positive\", \"negative\", \"tags\"]:\n",
    "            df_sample.at[i,f] = lin(res[f])\n",
    "    except Exception as e:\n",
    "        print(f'Error: {e}, response is {res}, text={txt}')\n",
    "        df_sample.at[i,'sentiment'] = 'neutral'\n",
    "        df_sample.at[i,'positive'] = ''\n",
    "        df_sample.at[i,'negative'] = ''"
   ]
  },
  {
   "cell_type": "markdown",
   "id": "31603c6b-ce61-4b89-a8d3-b1c838776ac1",
   "metadata": {},
   "source": [
    "Посмотрим на результат:"
   ]
  },
  {
   "cell_type": "code",
   "execution_count": 61,
   "id": "0c2b869c-9bee-49f6-ac43-c94d1af2c06b",
   "metadata": {
    "execution": {
     "iopub.execute_input": "2025-03-04T18:10:37.922870Z",
     "iopub.status.busy": "2025-03-04T18:10:37.921711Z",
     "iopub.status.idle": "2025-03-04T18:10:37.994583Z",
     "shell.execute_reply": "2025-03-04T18:10:37.993716Z",
     "shell.execute_reply.started": "2025-03-04T18:10:37.922820Z"
    },
    "tags": []
   },
   "outputs": [],
   "source": [
    "df_sample.to_csv('dataset_sample_with_GPT.csv',index=False)"
   ]
  },
  {
   "cell_type": "code",
   "execution_count": 62,
   "id": "7dd6cf03-fb91-4cb6-b151-8ec8d048f118",
   "metadata": {
    "execution": {
     "iopub.execute_input": "2025-03-04T18:10:40.691712Z",
     "iopub.status.busy": "2025-03-04T18:10:40.690179Z",
     "iopub.status.idle": "2025-03-04T18:10:40.729009Z",
     "shell.execute_reply": "2025-03-04T18:10:40.728291Z",
     "shell.execute_reply.started": "2025-03-04T18:10:40.691666Z"
    },
    "tags": []
   },
   "outputs": [
    {
     "data": {
      "text/html": [
       "<div>\n",
       "<style scoped>\n",
       "    .dataframe tbody tr th:only-of-type {\n",
       "        vertical-align: middle;\n",
       "    }\n",
       "\n",
       "    .dataframe tbody tr th {\n",
       "        vertical-align: top;\n",
       "    }\n",
       "\n",
       "    .dataframe thead th {\n",
       "        text-align: right;\n",
       "    }\n",
       "</style>\n",
       "<table border=\"1\" class=\"dataframe\">\n",
       "  <thead>\n",
       "    <tr style=\"text-align: right;\">\n",
       "      <th></th>\n",
       "      <th>id</th>\n",
       "      <th>dislike</th>\n",
       "      <th>like</th>\n",
       "      <th>review_text</th>\n",
       "      <th>author</th>\n",
       "      <th>review_rating</th>\n",
       "      <th>datetime</th>\n",
       "      <th>station</th>\n",
       "      <th>hf_sentiment</th>\n",
       "      <th>sentiment</th>\n",
       "      <th>transport</th>\n",
       "      <th>cleanliness</th>\n",
       "      <th>schedule</th>\n",
       "      <th>positive</th>\n",
       "      <th>negative</th>\n",
       "      <th>tags</th>\n",
       "    </tr>\n",
       "  </thead>\n",
       "  <tbody>\n",
       "    <tr>\n",
       "      <th>0</th>\n",
       "      <td>1253</td>\n",
       "      <td>2</td>\n",
       "      <td>7</td>\n",
       "      <td>Очень уютный и удобный вокзал. Мне он очень нр...</td>\n",
       "      <td>Н И</td>\n",
       "      <td>5</td>\n",
       "      <td>2023-08-25T14:27:29.327Z</td>\n",
       "      <td>Belorussky</td>\n",
       "      <td>positive</td>\n",
       "      <td>positive</td>\n",
       "      <td>5.0</td>\n",
       "      <td>0.0</td>\n",
       "      <td>0.0</td>\n",
       "      <td>уютный и удобный вокзал,в шаговой доступности ...</td>\n",
       "      <td>NaN</td>\n",
       "      <td>transport,comfort,monument</td>\n",
       "    </tr>\n",
       "    <tr>\n",
       "      <th>1</th>\n",
       "      <td>1291</td>\n",
       "      <td>2</td>\n",
       "      <td>7</td>\n",
       "      <td>Красивое, атмосферное место, а ещё и функциона...</td>\n",
       "      <td>Светлана Смирнова</td>\n",
       "      <td>5</td>\n",
       "      <td>2024-02-13T12:34:33.803Z</td>\n",
       "      <td>Belorussky</td>\n",
       "      <td>positive</td>\n",
       "      <td>positive</td>\n",
       "      <td>5.0</td>\n",
       "      <td>0.0</td>\n",
       "      <td>0.0</td>\n",
       "      <td>красивое место,атмосферное место,функционально...</td>\n",
       "      <td>NaN</td>\n",
       "      <td>location,entertainment,dining</td>\n",
       "    </tr>\n",
       "    <tr>\n",
       "      <th>2</th>\n",
       "      <td>1265</td>\n",
       "      <td>0</td>\n",
       "      <td>0</td>\n",
       "      <td>Сам вокзал наполнен всем чем только можно, и б...</td>\n",
       "      <td>Евгения Метликина</td>\n",
       "      <td>5</td>\n",
       "      <td>2023-10-20T17:48:42.357Z</td>\n",
       "      <td>Belorussky</td>\n",
       "      <td>positive</td>\n",
       "      <td>positive</td>\n",
       "      <td>5.0</td>\n",
       "      <td>0.0</td>\n",
       "      <td>0.0</td>\n",
       "      <td>удобное расположение,минимальное расстояние от...</td>\n",
       "      <td>NaN</td>\n",
       "      <td>transport,convenience</td>\n",
       "    </tr>\n",
       "    <tr>\n",
       "      <th>3</th>\n",
       "      <td>1280</td>\n",
       "      <td>0</td>\n",
       "      <td>0</td>\n",
       "      <td>Сам вокзал очень удобно расположен к станции м...</td>\n",
       "      <td>Юлия Морозова</td>\n",
       "      <td>5</td>\n",
       "      <td>2023-12-14T22:52:14.108Z</td>\n",
       "      <td>Belorussky</td>\n",
       "      <td>positive</td>\n",
       "      <td>positive</td>\n",
       "      <td>5.0</td>\n",
       "      <td>0.0</td>\n",
       "      <td>0.0</td>\n",
       "      <td>удобное расположение к станции метро,приятный ...</td>\n",
       "      <td>в некоторых местах требуется ремонт</td>\n",
       "      <td>transport,personnel,infrastructure</td>\n",
       "    </tr>\n",
       "    <tr>\n",
       "      <th>4</th>\n",
       "      <td>1277</td>\n",
       "      <td>0</td>\n",
       "      <td>5</td>\n",
       "      <td>Мой любимый вокзал ❤️‍🔥 до дома доезжаю быстро...</td>\n",
       "      <td>Ирина Мартынова</td>\n",
       "      <td>5</td>\n",
       "      <td>2024-02-13T12:20:02.161Z</td>\n",
       "      <td>Belorussky</td>\n",
       "      <td>positive</td>\n",
       "      <td>positive</td>\n",
       "      <td>5.0</td>\n",
       "      <td>0.0</td>\n",
       "      <td>0.0</td>\n",
       "      <td>удобное расположение,отзывчивые сотрудники</td>\n",
       "      <td>нужно заранее построить маршрут</td>\n",
       "      <td>transport,staff</td>\n",
       "    </tr>\n",
       "    <tr>\n",
       "      <th>...</th>\n",
       "      <td>...</td>\n",
       "      <td>...</td>\n",
       "      <td>...</td>\n",
       "      <td>...</td>\n",
       "      <td>...</td>\n",
       "      <td>...</td>\n",
       "      <td>...</td>\n",
       "      <td>...</td>\n",
       "      <td>...</td>\n",
       "      <td>...</td>\n",
       "      <td>...</td>\n",
       "      <td>...</td>\n",
       "      <td>...</td>\n",
       "      <td>...</td>\n",
       "      <td>...</td>\n",
       "      <td>...</td>\n",
       "    </tr>\n",
       "    <tr>\n",
       "      <th>75</th>\n",
       "      <td>2171</td>\n",
       "      <td>0</td>\n",
       "      <td>0</td>\n",
       "      <td>Восточный вокзал, десятый вокзал Москвы. Мален...</td>\n",
       "      <td>Armen Carapetiani</td>\n",
       "      <td>5</td>\n",
       "      <td>2024-01-18T05:36:05.521Z</td>\n",
       "      <td>Vostochny</td>\n",
       "      <td>positive</td>\n",
       "      <td>positive</td>\n",
       "      <td>5.0</td>\n",
       "      <td>0.0</td>\n",
       "      <td>0.0</td>\n",
       "      <td>компактный вокзал,удобное расположение</td>\n",
       "      <td>сложности с автопарковкой</td>\n",
       "      <td>transport,location</td>\n",
       "    </tr>\n",
       "    <tr>\n",
       "      <th>76</th>\n",
       "      <td>2167</td>\n",
       "      <td>2</td>\n",
       "      <td>20</td>\n",
       "      <td>Часто езжу через этот вокзал. В целом всё терп...</td>\n",
       "      <td>Надежда Вертелецкая</td>\n",
       "      <td>2</td>\n",
       "      <td>2024-02-21T09:59:45.251Z</td>\n",
       "      <td>Vostochny</td>\n",
       "      <td>neutral</td>\n",
       "      <td>negative</td>\n",
       "      <td>3.0</td>\n",
       "      <td>0.0</td>\n",
       "      <td>0.0</td>\n",
       "      <td>удобный переход к метро Черкизовской и Локомот...</td>\n",
       "      <td>сложности с доступом к платформам 3 и 4,безобр...</td>\n",
       "      <td>transport,parking,accessibility</td>\n",
       "    </tr>\n",
       "    <tr>\n",
       "      <th>77</th>\n",
       "      <td>2217</td>\n",
       "      <td>0</td>\n",
       "      <td>0</td>\n",
       "      <td>Сделано конечно на высоком уровне. Есть неболь...</td>\n",
       "      <td>Геннадий</td>\n",
       "      <td>5</td>\n",
       "      <td>2024-03-08T12:01:58.295Z</td>\n",
       "      <td>Vostochny</td>\n",
       "      <td>neutral</td>\n",
       "      <td>neutral</td>\n",
       "      <td>3.0</td>\n",
       "      <td>0.0</td>\n",
       "      <td>0.0</td>\n",
       "      <td>сделано на высоком уровне,есть небольшое кафе ...</td>\n",
       "      <td>не нашёл, как выехать на СВХ,навигатор не лови...</td>\n",
       "      <td>transport,cafe,parking</td>\n",
       "    </tr>\n",
       "    <tr>\n",
       "      <th>78</th>\n",
       "      <td>2221</td>\n",
       "      <td>0</td>\n",
       "      <td>0</td>\n",
       "      <td>Полно чудес в Москве. Восточный вокзал одно из...</td>\n",
       "      <td>Андрей Хоменко</td>\n",
       "      <td>3</td>\n",
       "      <td>2023-12-05T17:05:26.888Z</td>\n",
       "      <td>Vostochny</td>\n",
       "      <td>neutral</td>\n",
       "      <td>neutral</td>\n",
       "      <td>3.0</td>\n",
       "      <td>0.0</td>\n",
       "      <td>0.0</td>\n",
       "      <td>удобно с МЦК,удобно тем, кто часто пользуется ...</td>\n",
       "      <td>вокзал страшный,поесть можно только через мост...</td>\n",
       "      <td>transport,convenience</td>\n",
       "    </tr>\n",
       "    <tr>\n",
       "      <th>79</th>\n",
       "      <td>2239</td>\n",
       "      <td>0</td>\n",
       "      <td>0</td>\n",
       "      <td>Чисто! Аккуратно! Круглосуточное кафе! Много а...</td>\n",
       "      <td>Вита Волгина</td>\n",
       "      <td>4</td>\n",
       "      <td>2024-02-08T05:20:58.794Z</td>\n",
       "      <td>Vostochny</td>\n",
       "      <td>neutral</td>\n",
       "      <td>neutral</td>\n",
       "      <td>0.0</td>\n",
       "      <td>5.0</td>\n",
       "      <td>0.0</td>\n",
       "      <td>чисто,аккуратно,круглосуточное кафе,много авто...</td>\n",
       "      <td>сложно ориентироваться,лабиринты Минотавра</td>\n",
       "      <td>cleanliness,transport</td>\n",
       "    </tr>\n",
       "  </tbody>\n",
       "</table>\n",
       "<p>80 rows × 16 columns</p>\n",
       "</div>"
      ],
      "text/plain": [
       "      id  ...                                tags\n",
       "0   1253  ...          transport,comfort,monument\n",
       "1   1291  ...       location,entertainment,dining\n",
       "2   1265  ...               transport,convenience\n",
       "3   1280  ...  transport,personnel,infrastructure\n",
       "4   1277  ...                     transport,staff\n",
       "..   ...  ...                                 ...\n",
       "75  2171  ...                  transport,location\n",
       "76  2167  ...     transport,parking,accessibility\n",
       "77  2217  ...              transport,cafe,parking\n",
       "78  2221  ...               transport,convenience\n",
       "79  2239  ...               cleanliness,transport\n",
       "\n",
       "[80 rows x 16 columns]"
      ]
     },
     "execution_count": 62,
     "metadata": {},
     "output_type": "execute_result"
    }
   ],
   "source": [
    "df_sample = pd.read_csv('dataset_sample_with_GPT.csv')\n",
    "df_sample"
   ]
  },
  {
   "cell_type": "markdown",
   "id": "0ce15cff-f344-4945-a430-3b8779916874",
   "metadata": {},
   "source": [
    "## Делаем выводы и строим инфографику \n",
    "\n",
    "Посмотрим, насколько совпадают предсказания sentiment между YandexGPT и моделью с HuggingFace:"
   ]
  },
  {
   "cell_type": "code",
   "execution_count": 63,
   "id": "6d7fe528-9709-4c16-baf1-439c3a24208a",
   "metadata": {
    "execution": {
     "iopub.execute_input": "2025-03-04T18:10:44.148242Z",
     "iopub.status.busy": "2025-03-04T18:10:44.147215Z",
     "iopub.status.idle": "2025-03-04T18:10:44.356328Z",
     "shell.execute_reply": "2025-03-04T18:10:44.355422Z",
     "shell.execute_reply.started": "2025-03-04T18:10:44.148197Z"
    },
    "tags": []
   },
   "outputs": [
    {
     "data": {
      "text/plain": [
       "<sklearn.metrics._plot.confusion_matrix.ConfusionMatrixDisplay at 0x7f6c86bc7d00>"
      ]
     },
     "execution_count": 63,
     "metadata": {},
     "output_type": "execute_result"
    },
    {
     "data": {
      "image/png": "[encoded data removed]",
      "text/plain": [
       "<Figure size 640x480 with 2 Axes>"
      ]
     },
     "metadata": {},
     "output_type": "display_data"
    }
   ],
   "source": [
    "from sklearn.metrics import ConfusionMatrixDisplay\n",
    "ConfusionMatrixDisplay.from_predictions(df_sample['hf_sentiment'],df_sample['sentiment'])"
   ]
  },
  {
   "cell_type": "markdown",
   "id": "0b959f88-c9c2-40d8-92b4-97e1dfd673a4",
   "metadata": {},
   "source": [
    "Посмотрим на средние значения показателей по всем вокзалам. Для этого сначала заменим нулевые значения на NaN, и затем осуществим аггрегацию:"
   ]
  },
  {
   "cell_type": "code",
   "execution_count": 64,
   "id": "d7b2c058-33ab-4bcf-9839-2f2e2b939762",
   "metadata": {
    "execution": {
     "iopub.execute_input": "2025-03-04T18:10:48.780371Z",
     "iopub.status.busy": "2025-03-04T18:10:48.779301Z",
     "iopub.status.idle": "2025-03-04T18:10:48.808998Z",
     "shell.execute_reply": "2025-03-04T18:10:48.808068Z",
     "shell.execute_reply.started": "2025-03-04T18:10:48.780329Z"
    },
    "tags": []
   },
   "outputs": [
    {
     "data": {
      "text/html": [
       "<div>\n",
       "<style scoped>\n",
       "    .dataframe tbody tr th:only-of-type {\n",
       "        vertical-align: middle;\n",
       "    }\n",
       "\n",
       "    .dataframe tbody tr th {\n",
       "        vertical-align: top;\n",
       "    }\n",
       "\n",
       "    .dataframe thead th {\n",
       "        text-align: right;\n",
       "    }\n",
       "</style>\n",
       "<table border=\"1\" class=\"dataframe\">\n",
       "  <thead>\n",
       "    <tr style=\"text-align: right;\">\n",
       "      <th></th>\n",
       "      <th>transport</th>\n",
       "      <th>cleanliness</th>\n",
       "      <th>schedule</th>\n",
       "    </tr>\n",
       "    <tr>\n",
       "      <th>station</th>\n",
       "      <th></th>\n",
       "      <th></th>\n",
       "      <th></th>\n",
       "    </tr>\n",
       "  </thead>\n",
       "  <tbody>\n",
       "    <tr>\n",
       "      <th>Belorussky</th>\n",
       "      <td>4.777778</td>\n",
       "      <td>5.000000</td>\n",
       "      <td>NaN</td>\n",
       "    </tr>\n",
       "    <tr>\n",
       "      <th>Kazan</th>\n",
       "      <td>5.000000</td>\n",
       "      <td>4.000000</td>\n",
       "      <td>NaN</td>\n",
       "    </tr>\n",
       "    <tr>\n",
       "      <th>Kursky</th>\n",
       "      <td>4.000000</td>\n",
       "      <td>3.666667</td>\n",
       "      <td>NaN</td>\n",
       "    </tr>\n",
       "    <tr>\n",
       "      <th>Kyiv</th>\n",
       "      <td>4.333333</td>\n",
       "      <td>5.000000</td>\n",
       "      <td>1.0</td>\n",
       "    </tr>\n",
       "    <tr>\n",
       "      <th>Paveletsky</th>\n",
       "      <td>5.000000</td>\n",
       "      <td>4.166667</td>\n",
       "      <td>NaN</td>\n",
       "    </tr>\n",
       "    <tr>\n",
       "      <th>Rizhsky</th>\n",
       "      <td>5.000000</td>\n",
       "      <td>3.500000</td>\n",
       "      <td>NaN</td>\n",
       "    </tr>\n",
       "    <tr>\n",
       "      <th>Savyolovsky</th>\n",
       "      <td>5.000000</td>\n",
       "      <td>5.000000</td>\n",
       "      <td>5.0</td>\n",
       "    </tr>\n",
       "    <tr>\n",
       "      <th>Vostochny</th>\n",
       "      <td>3.888889</td>\n",
       "      <td>5.000000</td>\n",
       "      <td>NaN</td>\n",
       "    </tr>\n",
       "  </tbody>\n",
       "</table>\n",
       "</div>"
      ],
      "text/plain": [
       "             transport  cleanliness  schedule\n",
       "station                                      \n",
       "Belorussky    4.777778     5.000000       NaN\n",
       "Kazan         5.000000     4.000000       NaN\n",
       "Kursky        4.000000     3.666667       NaN\n",
       "Kyiv          4.333333     5.000000       1.0\n",
       "Paveletsky    5.000000     4.166667       NaN\n",
       "Rizhsky       5.000000     3.500000       NaN\n",
       "Savyolovsky   5.000000     5.000000       5.0\n",
       "Vostochny     3.888889     5.000000       NaN"
      ]
     },
     "execution_count": 64,
     "metadata": {},
     "output_type": "execute_result"
    }
   ],
   "source": [
    "for f in [\"transport\",\"cleanliness\", \"schedule\"]:\n",
    "    df_sample[f] = df_sample[f].apply(lambda x: np.nan if x==0 else x)\n",
    "\n",
    "df_sample.groupby('station').agg( {'transport' : 'mean', 'cleanliness' : 'mean', 'schedule' : 'mean'})"
   ]
  },
  {
   "cell_type": "markdown",
   "id": "a68c6c21-ffa9-466e-a5c4-4d9369981a92",
   "metadata": {},
   "source": [
    "Такую же информацию можно представить в виде графика:"
   ]
  },
  {
   "cell_type": "code",
   "execution_count": 65,
   "id": "1434056b-e339-43aa-8b38-b304a3d48a37",
   "metadata": {
    "execution": {
     "iopub.execute_input": "2025-03-04T18:10:53.523528Z",
     "iopub.status.busy": "2025-03-04T18:10:53.522280Z",
     "iopub.status.idle": "2025-03-04T18:10:53.788297Z",
     "shell.execute_reply": "2025-03-04T18:10:53.787371Z",
     "shell.execute_reply.started": "2025-03-04T18:10:53.523481Z"
    },
    "tags": []
   },
   "outputs": [
    {
     "data": {
      "text/plain": [
       "<Axes: xlabel='station'>"
      ]
     },
     "execution_count": 65,
     "metadata": {},
     "output_type": "execute_result"
    },
    {
     "data": {
      "image/png": "[encoded data removed]",
      "text/plain": [
       "<Figure size 640x480 with 1 Axes>"
      ]
     },
     "metadata": {},
     "output_type": "display_data"
    }
   ],
   "source": [
    "df_sample.groupby('station').agg(\n",
    "    {'transport' : 'mean', \n",
    "     'cleanliness' : 'mean', \n",
    "     'schedule' : 'mean'}).plot.bar()"
   ]
  },
  {
   "cell_type": "markdown",
   "id": "d4ba239f-8fc5-4c7e-835c-0c145b4ed277",
   "metadata": {},
   "source": [
    "Теперь научимся извлекать интересующие нас отзывы по тегам. Для этого посмотрим на список всех тегов:"
   ]
  },
  {
   "cell_type": "code",
   "execution_count": 66,
   "id": "3448133a-5627-44e6-86b5-2fb40daa6ffa",
   "metadata": {
    "execution": {
     "iopub.execute_input": "2025-03-04T18:10:58.256545Z",
     "iopub.status.busy": "2025-03-04T18:10:58.255396Z",
     "iopub.status.idle": "2025-03-04T18:10:58.272136Z",
     "shell.execute_reply": "2025-03-04T18:10:58.271297Z",
     "shell.execute_reply.started": "2025-03-04T18:10:58.256504Z"
    },
    "tags": []
   },
   "outputs": [
    {
     "data": {
      "text/plain": [
       "{'accessibility',\n",
       " 'appearance',\n",
       " 'architecture',\n",
       " 'area',\n",
       " 'attractions',\n",
       " 'boarding',\n",
       " 'building',\n",
       " 'cafe',\n",
       " 'cafes',\n",
       " 'cleanliness',\n",
       " 'comfort',\n",
       " 'condition',\n",
       " 'construction',\n",
       " 'convenience',\n",
       " 'crowd',\n",
       " 'crowded',\n",
       " 'dining',\n",
       " 'employees',\n",
       " 'entertainment',\n",
       " 'external appearance',\n",
       " 'facilities',\n",
       " 'food',\n",
       " 'history',\n",
       " 'hotel conditions',\n",
       " 'impressions',\n",
       " 'information',\n",
       " 'infrastructure',\n",
       " 'location',\n",
       " 'logistics',\n",
       " 'monument',\n",
       " 'museum',\n",
       " 'navigation',\n",
       " 'noise',\n",
       " 'nostalgia',\n",
       " 'parking',\n",
       " 'personnel',\n",
       " 'place',\n",
       " 'prices',\n",
       " 'railway station',\n",
       " 'relax',\n",
       " 'safety',\n",
       " 'schedule',\n",
       " 'seating',\n",
       " 'secrets',\n",
       " 'service',\n",
       " 'services',\n",
       " 'shopping',\n",
       " 'shops',\n",
       " 'staff',\n",
       " 'toilet',\n",
       " 'toilets',\n",
       " 'trains',\n",
       " 'transport',\n",
       " 'waiting room',\n",
       " 'атмосфера',\n",
       " 'внутренняя инфраструктура',\n",
       " 'камеры хранения',\n",
       " 'места для перекуса',\n",
       " 'пассажиропоток',\n",
       " 'просторные перроны',\n",
       " 'скользкая плитка',\n",
       " 'транспорт',\n",
       " 'удобство',\n",
       " 'фудкорт'}"
      ]
     },
     "execution_count": 66,
     "metadata": {},
     "output_type": "execute_result"
    }
   ],
   "source": [
    "tags = list(df_sample['tags'].apply(lambda x: str(x).split(',')))\n",
    "tags = set(sum(tags,[])) - { 'nan', '' }\n",
    "tags"
   ]
  },
  {
   "cell_type": "markdown",
   "id": "2dbb2541-8dea-46af-b30f-2c690f16aaeb",
   "metadata": {},
   "source": [
    "Опишем функцию `tag_lookup`, которая будет возвращать фрагмент таблицы, в который входит интересующий нас тег:"
   ]
  },
  {
   "cell_type": "code",
   "execution_count": 68,
   "id": "f55446ac-59d1-4a6f-8f53-2d696763f76c",
   "metadata": {
    "execution": {
     "iopub.execute_input": "2025-03-04T18:11:15.397345Z",
     "iopub.status.busy": "2025-03-04T18:11:15.396034Z",
     "iopub.status.idle": "2025-03-04T18:11:15.423841Z",
     "shell.execute_reply": "2025-03-04T18:11:15.422999Z",
     "shell.execute_reply.started": "2025-03-04T18:11:15.397297Z"
    },
    "tags": []
   },
   "outputs": [
    {
     "data": {
      "text/html": [
       "<div>\n",
       "<style scoped>\n",
       "    .dataframe tbody tr th:only-of-type {\n",
       "        vertical-align: middle;\n",
       "    }\n",
       "\n",
       "    .dataframe tbody tr th {\n",
       "        vertical-align: top;\n",
       "    }\n",
       "\n",
       "    .dataframe thead th {\n",
       "        text-align: right;\n",
       "    }\n",
       "</style>\n",
       "<table border=\"1\" class=\"dataframe\">\n",
       "  <thead>\n",
       "    <tr style=\"text-align: right;\">\n",
       "      <th></th>\n",
       "      <th>station</th>\n",
       "      <th>review_text</th>\n",
       "    </tr>\n",
       "  </thead>\n",
       "  <tbody>\n",
       "    <tr>\n",
       "      <th>12</th>\n",
       "      <td>Kazan</td>\n",
       "      <td>Очень крутой комфортабельный вокзал, в внутри ...</td>\n",
       "    </tr>\n",
       "    <tr>\n",
       "      <th>16</th>\n",
       "      <td>Kazan</td>\n",
       "      <td>Красивейший вокзал! Расположен на площади трёх...</td>\n",
       "    </tr>\n",
       "    <tr>\n",
       "      <th>22</th>\n",
       "      <td>Kursky</td>\n",
       "      <td>Хорошее красивое место приезжали недавно есть ...</td>\n",
       "    </tr>\n",
       "    <tr>\n",
       "      <th>29</th>\n",
       "      <td>Kursky</td>\n",
       "      <td>Вокзал стал прекрасен! Есть всё! Можно купить ...</td>\n",
       "    </tr>\n",
       "    <tr>\n",
       "      <th>36</th>\n",
       "      <td>Kyiv</td>\n",
       "      <td>Многолюдное место, всё рядом и автобусы и метр...</td>\n",
       "    </tr>\n",
       "    <tr>\n",
       "      <th>47</th>\n",
       "      <td>Paveletsky</td>\n",
       "      <td>Красивое здание вокзала, привокзальная террито...</td>\n",
       "    </tr>\n",
       "  </tbody>\n",
       "</table>\n",
       "</div>"
      ],
      "text/plain": [
       "       station                                        review_text\n",
       "12       Kazan  Очень крутой комфортабельный вокзал, в внутри ...\n",
       "16       Kazan  Красивейший вокзал! Расположен на площади трёх...\n",
       "22      Kursky  Хорошее красивое место приезжали недавно есть ...\n",
       "29      Kursky  Вокзал стал прекрасен! Есть всё! Можно купить ...\n",
       "36        Kyiv  Многолюдное место, всё рядом и автобусы и метр...\n",
       "47  Paveletsky  Красивое здание вокзала, привокзальная террито..."
      ]
     },
     "execution_count": 68,
     "metadata": {},
     "output_type": "execute_result"
    }
   ],
   "source": [
    "def tag_lookup(tag):\n",
    "    return df_sample[df_sample['tags'].apply(lambda x: tag in str(x))]\n",
    "\n",
    "tag_lookup('food')[['station','review_text']]"
   ]
  },
  {
   "cell_type": "markdown",
   "id": "59c7eb6a-30ab-41f7-aa43-9f0a31dbc9e4",
   "metadata": {},
   "source": [
    "Посмотрим, на каком вокзале есть музей:"
   ]
  },
  {
   "cell_type": "code",
   "execution_count": 70,
   "id": "3acf7739-782b-47b7-9e9f-94236f74c1ce",
   "metadata": {
    "execution": {
     "iopub.execute_input": "2025-03-04T18:11:31.188455Z",
     "iopub.status.busy": "2025-03-04T18:11:31.187314Z",
     "iopub.status.idle": "2025-03-04T18:11:31.212111Z",
     "shell.execute_reply": "2025-03-04T18:11:31.211390Z",
     "shell.execute_reply.started": "2025-03-04T18:11:31.188409Z"
    },
    "tags": []
   },
   "outputs": [
    {
     "data": {
      "text/html": [
       "<div>\n",
       "<style scoped>\n",
       "    .dataframe tbody tr th:only-of-type {\n",
       "        vertical-align: middle;\n",
       "    }\n",
       "\n",
       "    .dataframe tbody tr th {\n",
       "        vertical-align: top;\n",
       "    }\n",
       "\n",
       "    .dataframe thead th {\n",
       "        text-align: right;\n",
       "    }\n",
       "</style>\n",
       "<table border=\"1\" class=\"dataframe\">\n",
       "  <thead>\n",
       "    <tr style=\"text-align: right;\">\n",
       "      <th></th>\n",
       "      <th>station</th>\n",
       "      <th>review_text</th>\n",
       "    </tr>\n",
       "  </thead>\n",
       "  <tbody>\n",
       "    <tr>\n",
       "      <th>55</th>\n",
       "      <td>Rizhsky</td>\n",
       "      <td>Обожаю этот вокзал, вроде обычный.. Но в нём ч...</td>\n",
       "    </tr>\n",
       "  </tbody>\n",
       "</table>\n",
       "</div>"
      ],
      "text/plain": [
       "    station                                        review_text\n",
       "55  Rizhsky  Обожаю этот вокзал, вроде обычный.. Но в нём ч..."
      ]
     },
     "execution_count": 70,
     "metadata": {},
     "output_type": "execute_result"
    }
   ],
   "source": [
    "tag_lookup('museum')[['station','review_text']]"
   ]
  },
  {
   "cell_type": "markdown",
   "id": "c2acbb8d-3d06-403f-a190-99d956338a0b",
   "metadata": {},
   "source": [
    "## Подведение итогов"
   ]
  },
  {
   "cell_type": "markdown",
   "id": "c25fb369-8bd9-4b1e-8acc-b20b29334731",
   "metadata": {},
   "source": [
    "Зададимся задачей подытожить все положительные и отрицательные моменты для каждого из вокзалов. Сначала объединим все значения колонок `positive` и `negative` для каждого из вокзалов:"
   ]
  },
  {
   "cell_type": "code",
   "execution_count": 72,
   "id": "5becbff0-cafd-4c25-81e7-1f50b46eb2ba",
   "metadata": {
    "execution": {
     "iopub.execute_input": "2025-03-04T18:12:06.914438Z",
     "iopub.status.busy": "2025-03-04T18:12:06.913383Z",
     "iopub.status.idle": "2025-03-04T18:12:06.944652Z",
     "shell.execute_reply": "2025-03-04T18:12:06.943889Z",
     "shell.execute_reply.started": "2025-03-04T18:12:06.914389Z"
    },
    "tags": []
   },
   "outputs": [
    {
     "data": {
      "text/html": [
       "<div>\n",
       "<style scoped>\n",
       "    .dataframe tbody tr th:only-of-type {\n",
       "        vertical-align: middle;\n",
       "    }\n",
       "\n",
       "    .dataframe tbody tr th {\n",
       "        vertical-align: top;\n",
       "    }\n",
       "\n",
       "    .dataframe thead th {\n",
       "        text-align: right;\n",
       "    }\n",
       "</style>\n",
       "<table border=\"1\" class=\"dataframe\">\n",
       "  <thead>\n",
       "    <tr style=\"text-align: right;\">\n",
       "      <th></th>\n",
       "      <th>station</th>\n",
       "      <th>positive</th>\n",
       "      <th>negative</th>\n",
       "    </tr>\n",
       "  </thead>\n",
       "  <tbody>\n",
       "    <tr>\n",
       "      <th>0</th>\n",
       "      <td>Belorussky</td>\n",
       "      <td>уютный и удобный вокзал,в шаговой доступности ...</td>\n",
       "      <td>в некоторых местах требуется ремонт, нужно зар...</td>\n",
       "    </tr>\n",
       "    <tr>\n",
       "      <th>1</th>\n",
       "      <td>Kazan</td>\n",
       "      <td>здание великолепное,настоящий шедевр архитекту...</td>\n",
       "      <td>зал платформ под металлической крышей довольно...</td>\n",
       "    </tr>\n",
       "    <tr>\n",
       "      <th>2</th>\n",
       "      <td>Kursky</td>\n",
       "      <td>красивый и интересный вокзал,большие и удобные...</td>\n",
       "      <td>не очень понятно, на какое время можно останов...</td>\n",
       "    </tr>\n",
       "    <tr>\n",
       "      <th>3</th>\n",
       "      <td>Kyiv</td>\n",
       "      <td>на вокзале много путей, красивый советский арх...</td>\n",
       "      <td>сложно найти кассы,не понятно, какой путь ведё...</td>\n",
       "    </tr>\n",
       "    <tr>\n",
       "      <th>4</th>\n",
       "      <td>Paveletsky</td>\n",
       "      <td>чисто,вежливые и доброжелательные работники пр...</td>\n",
       "      <td>завышены цены на вип-комнату,ограничен срок хр...</td>\n",
       "    </tr>\n",
       "    <tr>\n",
       "      <th>5</th>\n",
       "      <td>Rizhsky</td>\n",
       "      <td>понятный, нет плохих впечатлений, вокзал практ...</td>\n",
       "      <td>маленький,старенький, не очень красивый,навига...</td>\n",
       "    </tr>\n",
       "    <tr>\n",
       "      <th>6</th>\n",
       "      <td>Savyolovsky</td>\n",
       "      <td>удобная для пассажиров,есть метро и автобусные...</td>\n",
       "      <td>не из всех вагонов доступ к терминалам, малень...</td>\n",
       "    </tr>\n",
       "    <tr>\n",
       "      <th>7</th>\n",
       "      <td>Vostochny</td>\n",
       "      <td>удобный выход из метро,удобный заезд для автом...</td>\n",
       "      <td>не хватает мест для сидений,зимой хотелось бы ...</td>\n",
       "    </tr>\n",
       "  </tbody>\n",
       "</table>\n",
       "</div>"
      ],
      "text/plain": [
       "       station  ...                                           negative\n",
       "0   Belorussky  ...  в некоторых местах требуется ремонт, нужно зар...\n",
       "1        Kazan  ...  зал платформ под металлической крышей довольно...\n",
       "2       Kursky  ...  не очень понятно, на какое время можно останов...\n",
       "3         Kyiv  ...  сложно найти кассы,не понятно, какой путь ведё...\n",
       "4   Paveletsky  ...  завышены цены на вип-комнату,ограничен срок хр...\n",
       "5      Rizhsky  ...  маленький,старенький, не очень красивый,навига...\n",
       "6  Savyolovsky  ...  не из всех вагонов доступ к терминалам, малень...\n",
       "7    Vostochny  ...  не хватает мест для сидений,зимой хотелось бы ...\n",
       "\n",
       "[8 rows x 3 columns]"
      ]
     },
     "execution_count": 72,
     "metadata": {},
     "output_type": "execute_result"
    }
   ],
   "source": [
    "join = lambda x : ', '.join([t for t in x if isinstance(t,str) and len(t)>0])\n",
    "\n",
    "df_stations = df_sample.groupby('station').agg({ 'positive' : join, 'negative' : join }).reset_index()\n",
    "df_stations"
   ]
  },
  {
   "cell_type": "markdown",
   "id": "020f0c5e-8850-4af1-be8e-115793348430",
   "metadata": {
    "execution": {
     "iopub.execute_input": "2024-05-22T22:49:16.088187Z",
     "iopub.status.busy": "2024-05-22T22:49:16.087032Z",
     "iopub.status.idle": "2024-05-22T22:49:16.100318Z",
     "shell.execute_reply": "2024-05-22T22:49:16.099308Z",
     "shell.execute_reply.started": "2024-05-22T22:49:16.088138Z"
    }
   },
   "source": [
    "Теперь применим большую языковую модель для того, чтобы суммаризировать все факты в один конкретный текст:"
   ]
  },
  {
   "cell_type": "code",
   "execution_count": 74,
   "id": "d7180f20-7d9e-466c-8068-6d4e2a442fb5",
   "metadata": {
    "execution": {
     "iopub.execute_input": "2025-03-04T18:12:23.699955Z",
     "iopub.status.busy": "2025-03-04T18:12:23.698719Z",
     "iopub.status.idle": "2025-03-04T18:12:44.736789Z",
     "shell.execute_reply": "2025-03-04T18:12:44.735980Z",
     "shell.execute_reply.started": "2025-03-04T18:12:23.699907Z"
    },
    "tags": []
   },
   "outputs": [],
   "source": [
    "prompt_sum = \"\"\"\n",
    "Пожалуйста, прочитай список отзывов о вокзале ниже в тройных обратных кавычках и запиши краткое содержание\n",
    "всего прочитанного текста в виде нескольких абзацев текста. Отзывы: ```{}```\n",
    "\"\"\"\n",
    "\n",
    "def summarize(x):\n",
    "    res = gpt(prompt_sum.format(x))\n",
    "    return res\n",
    "\n",
    "df_stations['pos_summary'] = df_stations['positive'].apply(summarize)\n",
    "df_stations['neg_summary'] = df_stations['negative'].apply(summarize)"
   ]
  },
  {
   "cell_type": "code",
   "execution_count": 75,
   "id": "300e04fe-4d85-4862-8e45-7a2227e6c097",
   "metadata": {
    "execution": {
     "iopub.execute_input": "2025-03-04T18:12:46.127368Z",
     "iopub.status.busy": "2025-03-04T18:12:46.126326Z",
     "iopub.status.idle": "2025-03-04T18:12:46.152453Z",
     "shell.execute_reply": "2025-03-04T18:12:46.151697Z",
     "shell.execute_reply.started": "2025-03-04T18:12:46.127320Z"
    },
    "tags": []
   },
   "outputs": [
    {
     "data": {
      "text/html": [
       "<div>\n",
       "<style scoped>\n",
       "    .dataframe tbody tr th:only-of-type {\n",
       "        vertical-align: middle;\n",
       "    }\n",
       "\n",
       "    .dataframe tbody tr th {\n",
       "        vertical-align: top;\n",
       "    }\n",
       "\n",
       "    .dataframe thead th {\n",
       "        text-align: right;\n",
       "    }\n",
       "</style>\n",
       "<table border=\"1\" class=\"dataframe\">\n",
       "  <thead>\n",
       "    <tr style=\"text-align: right;\">\n",
       "      <th></th>\n",
       "      <th>station</th>\n",
       "      <th>pos_summary</th>\n",
       "      <th>neg_summary</th>\n",
       "    </tr>\n",
       "  </thead>\n",
       "  <tbody>\n",
       "    <tr>\n",
       "      <th>0</th>\n",
       "      <td>Belorussky</td>\n",
       "      <td>Вокзал описывается как уютное и удобное место с хорошим расположением относительно станции метро и других транспортных средств. На вокзале есть навес, защищающий от непогоды, туалеты на платформе, а также места для прогулок и проведения интеллектуальных мероприятий.\\n\\nОтмечается гармоничное обновление вокзала, его красота и современность. Здание вокзала просторное и чистое, с удобными залами ожидания и понятным расположением электронных табло. Персонал вокзала характеризуется как приятный, доброжелательный и отзывчивый.\\n\\nТакже подчёркивается удобство разделения зон, наличие охраны и современный подход к требованиям безопасности. Упоминается, что вокзал стал намного красивее, современнее и удобнее, а также улучшилось качество обслуживания и уровень комфорта.</td>\n",
       "      <td>Некоторые пассажиры считают, что вокзал требует ремонта. Также отмечается недостаток подходов и проходов, что может создавать неудобства для посетителей.\\n\\nКроме того, пассажиры указывают на грязь и недостаточное информирование, а также отсутствие корректных указателей. Это может затруднить ориентацию на вокзале и поиск нужных мест.\\n\\nТакже упоминается, что вокзал кажется маленьким по сравнению с Казанским и что после открытия долго продолжаются стройки. Рекомендуется заранее планировать маршрут.</td>\n",
       "    </tr>\n",
       "    <tr>\n",
       "      <th>1</th>\n",
       "      <td>Kazan</td>\n",
       "      <td>Вокзал характеризуется как комфортабельный и чистый с удобным расположением. Здание описывается как великолепное и красивое, настоящее произведение архитектуры. \\n\\nНа вокзале есть всё необходимое для пассажиров: кафе и рестораны с вкусной едой, магазины, торговые павильоны, сувенирные лавки, залы ожидания, камеры хранения, банкоматы. Также имеются большие платформы и множество мест, где можно перекусить.\\n\\nОтдельно отмечается чистота вокзала в целом и туалетов в частности, а также отзывчивость персонала. Доступ на вокзал возможен прямо из метро, рядом с которым также есть супермаркет.</td>\n",
       "      <td>Вокзал перегружен людьми, в нём нет мест для комфортного ожидания. \\n\\nИнфраструктура вокзала оставляет желать лучшего: здание выглядит уставшим, а подземный переход сильно удлиняет путь и усложняет ориентацию на вокзале. \\n\\nКроме того, пассажиры отмечают шум в зале платформ под металлической крышей, сквозняки и неудобное расположение вокзала. Цены в столовых и кафе на территории вокзала высокие.</td>\n",
       "    </tr>\n",
       "    <tr>\n",
       "      <th>2</th>\n",
       "      <td>Kursky</td>\n",
       "      <td>Вокзал характеризуется как современный и удобный, с просторными помещениями и приятной атмосферой. Посетители отмечают его красоту и чистоту, а также наличие всего необходимого для комфортного ожидания поезда, включая магазины, кафе и рестораны.\\n\\nКроме того, упоминается наличие зала ожидания, камер хранения с большими ячейками и парковки. Расположение рядом с торговым комплексом АТРИУМ с кафе и магазинами создаёт дополнительные удобства для посетителей.\\n\\nВ целом, вокзал описывается как мощный транспортный узел, легко доступный и удобный для поездок по Москве.</td>\n",
       "      <td>Отзывы о вокзале в основном негативные. Пассажиры отмечают, что неясно, на какое время можно остановиться для быстрой встречи гостей.\\n\\nТакже упоминается, что большая часть поездов теперь отправляется с Восточного вокзала, а Курский вокзал представляется более удобным и просторным. Среди проблем — отсутствие достаточного количества парковочных мест для разгрузки пассажиров и неудобное расположение информационных табло.\\n\\nКроме того, пассажиры жалуются на неприятные условия в самом здании вокзала: запах мочи в зале ожидания, отсутствие скамеек в некоторых зонах, а также переполненность нижнего этажа людьми.</td>\n",
       "    </tr>\n",
       "    <tr>\n",
       "      <th>3</th>\n",
       "      <td>Kyiv</td>\n",
       "      <td>Вокзал характеризуется удобным расположением в центре города, хорошей транспортной доступностью и близостью к метро. Рядом находятся торговый центр, автобусные остановки, стоянка такси, а также причал речных трамвайчиков.\\n\\nЗдание вокзала отличается красивой советской архитектурой и чистотой. Внутри есть зал ожидания, много указателей, благодаря чему понятно, что где находится. Персонал в основном вежливый.\\n\\nВ округе много кафе, сувенирных лавочек и автоматов для перекуса. Для детей есть современная детская площадка. Также на вокзале есть фонтан с подсветкой.</td>\n",
       "      <td>Посетители вокзала сталкиваются с рядом проблем: сложно найти кассы, не всегда понятно, какой путь ведёт к нужному вагону. Также отмечается, что на вокзале есть огромное пустое помещение, где ничего нет.\\n\\nКроме того, пассажиры недовольны высокими ценами на вокзале и считают, что камеры хранения можно сделать доступнее. Персонал службы досмотра описан как грубый и не доброжелательный, а логистика досмотра — как не продуманная.\\n\\nЕсть жалобы на неудобство при посадке с низкого перрона с большим чемоданом, с детской коляской и с ребёнком. Проблемы возникают из-за высоких каменных ступеней без поручней, скользкого пандуса без поручня и тяжёлых двойных дверей. Также отмечается отсутствие пандусов для детской коляски и неудобство при спуске к путям с экспрессом через спуск к метро.</td>\n",
       "    </tr>\n",
       "    <tr>\n",
       "      <th>4</th>\n",
       "      <td>Paveletsky</td>\n",
       "      <td>Вокзал характеризуется как большой и красивый, с удобным расположением и хорошей доступностью к метро, аэроэкспрессу, поездам дальнего следования и электричкам. \\n\\nОтмечается высокий уровень обслуживания: вежливые и доброжелательные работники пропускного контроля, быстрый досмотр, чистые туалеты и отдельные комнаты для ожидания с удобными мягкими диванчиками. На вокзале есть массажное кресло, камера хранения, банкоматы, а также предоставляются услуги помощи со спецсредствами и с багажом.\\n\\nКроме того, на вокзале и в его окрестностях есть множество мест общественного питания, магазинов и кофеен. Привокзальная территория благоустроена, а рядом с вокзалом расположены торговый центр и красивая площадь.</td>\n",
       "      <td>В отзывах о вокзале пассажиры отмечают несколько проблем. Среди них — высокие цены на VIP-комнату и ограниченный срок хранения вещей в автоматической камере хранения. Также нельзя дистанционно продлить срок хранения по нормальной цене.\\n\\nКроме того, пассажиры упоминают неудовлетворительные условия в зале ожидания: душно, скудное меню, не хватает чистой посуды, неисправная кофемашина и невытертые пятна на столах.\\n\\nТакже есть замечания к работе персонала — они не здороваются первыми. Наконец, пассажиры указывают на неубранное состояние туалетов.</td>\n",
       "    </tr>\n",
       "    <tr>\n",
       "      <th>5</th>\n",
       "      <td>Rizhsky</td>\n",
       "      <td>Вокзал оставляет приятные впечатления. Он чистый и находится в нормальном состоянии. Здание красивое, оно относится к давней эпохе и сохраняет нотки старины.\\n\\nНа вокзале нет большого скопления людей, он практически пустой. Рядом есть остановка общественного транспорта и музей паровозов.\\n\\nСотрудники вокзала внимательны. В целом, это один из самых лучших вокзалов Москвы.</td>\n",
       "      <td>Вокзал описывается как небольшое и устаревшее здание, которое не отличается привлекательным внешним видом. Навигация на вокзале организована не очень хорошо, что затрудняет поиск необходимых мест, например, пригородных касс.\\n\\nТакже отмечается, что вокзал обслуживает только электропоезда по МЦД-2, а также отсутствуют парковка и возможность купить завтрак.\\n\\nКроме того, упоминается неудовлетворительное состояние здания: старые окна, сквозняки, необходимость ремонта. Есть проблемы и с условиями в номерах: присутствует запах хлорки, обнаружены паутина и чёрные швы в ванной комнате, душевой поддон расположен на уровне колен. Также в номерах нет халатов, а в здании вокзала очень холодно.</td>\n",
       "    </tr>\n",
       "    <tr>\n",
       "      <th>6</th>\n",
       "      <td>Savyolovsky</td>\n",
       "      <td>Вокзал характеризуется как удобное и хорошо организованное транспортное hub-место. Отмечается наличие метро и автобусных остановок, а также просторные и свободные выходы на платформы.\\n\\nПассажиры хвалят наличие автоматов для покупки билетов, понятную навигацию и оперативное доступа к поездам. Чистота на вокзале и в его окрестностях также выделяется как положительный аспект.\\n\\nКроме того, пользователи отмечают наличие множества торговых точек, кафе и мест для перекуса, а также дружелюбных местных жителей. Транспортная доступность вокруг вокзала оценивается как удобная.</td>\n",
       "      <td>Вокзал небольшой, и на нём обслуживаются только пригородные поезда. Не из всех вагонов можно добраться до терминалов.\\n\\nСреди проблем, отмеченных пассажирами, — скользкая плитка у турникетов, из-за которой люди падают, особенно в снег. Также упоминается непонимание поведения пассажиров. Есть предложение обновить вокзал.</td>\n",
       "    </tr>\n",
       "    <tr>\n",
       "      <th>7</th>\n",
       "      <td>Vostochny</td>\n",
       "      <td>Вокзал характеризуется удобным расположением: есть удобный выход из метро, заезд для автомобилей и такси, а также выходы на МЦК. Рядом находятся метро и электричка, что обеспечивает хорошую логистику.\\n\\nЗдание вокзала современное, чистое и аккуратное, с удобными платформами. Внутри есть все необходимые удобства: чистые туалеты с туалетной бумагой, бумажными и электрополотенцами, возможность зарядить телефон, маршрутизатор, кафе и круглосуточное бистро с доступными ценами.\\n\\nТакже отмечаются удобные камеры хранения, отсутствие очередей и приветливый персонал. Наличие недорогой парковки рядом с вокзалом является дополнительным плюсом.</td>\n",
       "      <td>Вокзал оценивается пользователями негативно. Основные проблемы — нехватка мест для сидения и ожидания, отсутствие удобных зон для высадки пассажиров и мест, где можно выпить горячий напиток.\\n\\nТакже пассажиры отмечают неудобное расположение парковки и сложности с доступом к некоторым платформам. Отмечается высокая загруженность вокзала, особенно в часы пик, и проблемы с ориентацией на территории вокзала — отсутствие указателей и сложность навигации.\\n\\nКроме того, пользователи считают, что вокзал удалён от центра города, а его архитектура не отличается привлекательностью.</td>\n",
       "    </tr>\n",
       "  </tbody>\n",
       "</table>\n",
       "</div>"
      ],
      "text/plain": [
       "       station  ...                                                                                                                                                                                                                                                                                                                                                                                                                                                                                                                                                                                                                                                                                                                                                                                                            neg_summary\n",
       "0  Belorussky   ...  Некоторые пассажиры считают, что вокзал требует ремонта. Также отмечается недостаток подходов и проходов, что может создавать неудобства для посетителей.\\n\\nКроме того, пассажиры указывают на грязь и недостаточное информирование, а также отсутствие корректных указателей. Это может затруднить ориентацию на вокзале и поиск нужных мест.\\n\\nТакже упоминается, что вокзал кажется маленьким по сравнению с Казанским и что после открытия долго продолжаются стройки. Рекомендуется заранее планировать маршрут.                                                                                                                                                                                                                                                                                              \n",
       "1  Kazan        ...  Вокзал перегружен людьми, в нём нет мест для комфортного ожидания. \\n\\nИнфраструктура вокзала оставляет желать лучшего: здание выглядит уставшим, а подземный переход сильно удлиняет путь и усложняет ориентацию на вокзале. \\n\\nКроме того, пассажиры отмечают шум в зале платформ под металлической крышей, сквозняки и неудобное расположение вокзала. Цены в столовых и кафе на территории вокзала высокие.                                                                                                                                                                                                                                                                                                                                                                                                     \n",
       "2  Kursky       ...  Отзывы о вокзале в основном негативные. Пассажиры отмечают, что неясно, на какое время можно остановиться для быстрой встречи гостей.\\n\\nТакже упоминается, что большая часть поездов теперь отправляется с Восточного вокзала, а Курский вокзал представляется более удобным и просторным. Среди проблем — отсутствие достаточного количества парковочных мест для разгрузки пассажиров и неудобное расположение информационных табло.\\n\\nКроме того, пассажиры жалуются на неприятные условия в самом здании вокзала: запах мочи в зале ожидания, отсутствие скамеек в некоторых зонах, а также переполненность нижнего этажа людьми.                                                                                                                                                                              \n",
       "3  Kyiv         ...  Посетители вокзала сталкиваются с рядом проблем: сложно найти кассы, не всегда понятно, какой путь ведёт к нужному вагону. Также отмечается, что на вокзале есть огромное пустое помещение, где ничего нет.\\n\\nКроме того, пассажиры недовольны высокими ценами на вокзале и считают, что камеры хранения можно сделать доступнее. Персонал службы досмотра описан как грубый и не доброжелательный, а логистика досмотра — как не продуманная.\\n\\nЕсть жалобы на неудобство при посадке с низкого перрона с большим чемоданом, с детской коляской и с ребёнком. Проблемы возникают из-за высоких каменных ступеней без поручней, скользкого пандуса без поручня и тяжёлых двойных дверей. Также отмечается отсутствие пандусов для детской коляски и неудобство при спуске к путям с экспрессом через спуск к метро.\n",
       "4  Paveletsky   ...  В отзывах о вокзале пассажиры отмечают несколько проблем. Среди них — высокие цены на VIP-комнату и ограниченный срок хранения вещей в автоматической камере хранения. Также нельзя дистанционно продлить срок хранения по нормальной цене.\\n\\nКроме того, пассажиры упоминают неудовлетворительные условия в зале ожидания: душно, скудное меню, не хватает чистой посуды, неисправная кофемашина и невытертые пятна на столах.\\n\\nТакже есть замечания к работе персонала — они не здороваются первыми. Наконец, пассажиры указывают на неубранное состояние туалетов.                                                                                                                                                                                                                                             \n",
       "5  Rizhsky      ...  Вокзал описывается как небольшое и устаревшее здание, которое не отличается привлекательным внешним видом. Навигация на вокзале организована не очень хорошо, что затрудняет поиск необходимых мест, например, пригородных касс.\\n\\nТакже отмечается, что вокзал обслуживает только электропоезда по МЦД-2, а также отсутствуют парковка и возможность купить завтрак.\\n\\nКроме того, упоминается неудовлетворительное состояние здания: старые окна, сквозняки, необходимость ремонта. Есть проблемы и с условиями в номерах: присутствует запах хлорки, обнаружены паутина и чёрные швы в ванной комнате, душевой поддон расположен на уровне колен. Также в номерах нет халатов, а в здании вокзала очень холодно.                                                                                                \n",
       "6  Savyolovsky  ...  Вокзал небольшой, и на нём обслуживаются только пригородные поезда. Не из всех вагонов можно добраться до терминалов.\\n\\nСреди проблем, отмеченных пассажирами, — скользкая плитка у турникетов, из-за которой люди падают, особенно в снег. Также упоминается непонимание поведения пассажиров. Есть предложение обновить вокзал.                                                                                                                                                                                                                                                                                                                                                                                                                                                                                   \n",
       "7  Vostochny    ...  Вокзал оценивается пользователями негативно. Основные проблемы — нехватка мест для сидения и ожидания, отсутствие удобных зон для высадки пассажиров и мест, где можно выпить горячий напиток.\\n\\nТакже пассажиры отмечают неудобное расположение парковки и сложности с доступом к некоторым платформам. Отмечается высокая загруженность вокзала, особенно в часы пик, и проблемы с ориентацией на территории вокзала — отсутствие указателей и сложность навигации.\\n\\nКроме того, пользователи считают, что вокзал удалён от центра города, а его архитектура не отличается привлекательностью.                                                                                                                                                                                                                  \n",
       "\n",
       "[8 rows x 3 columns]"
      ]
     },
     "metadata": {},
     "output_type": "display_data"
    }
   ],
   "source": [
    "from IPython.display import display\n",
    "with pd.option_context('display.max_colwidth', 0):\n",
    "    display(df_stations[['station','pos_summary','neg_summary']])"
   ]
  },
  {
   "cell_type": "markdown",
   "id": "a62b4ef9-172a-46fa-81df-fba33ec05b47",
   "metadata": {},
   "source": [
    "## Заключение\n",
    "\n",
    "Yandex Cloud позволяет вам как использовать ресурсы с GPU для запуска готовых предобученных моделей, так и предоставляет готовые сервисы и фундаментальные модели, которые можно использовать для решения ваших задач. Хотя мы это не показали, ресурсы GPU можно использовать и для обучения моделей!"
   ]
  },
  {
   "cell_type": "code",
   "execution_count": null,
   "id": "c2bdf8ed-3a19-43a9-b7c8-a559fed4ee69",
   "metadata": {},
   "outputs": [],
   "source": []
  }
 ],
 "metadata": {
  "kernelspec": {
   "display_name": "DataSphere Kernel",
   "language": "python",
   "name": "python3"
  },
  "language_info": {
   "codemirror_mode": {
    "name": "ipython",
    "version": 3
   },
   "file_extension": ".py",
   "mimetype": "text/x-python",
   "name": "python",
   "nbconvert_exporter": "python",
   "pygments_lexer": "ipython3",
   "version": "3.10.12"
  }
 },
 "nbformat": 4,
 "nbformat_minor": 5
}
